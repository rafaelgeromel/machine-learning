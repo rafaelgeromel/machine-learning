{
 "cells": [
  {
   "cell_type": "markdown",
   "metadata": {},
   "source": [
    "### my1stNN\n",
    "\n",
    "Jay Urbain\n",
    "\n",
    "#### Load the MNIST data"
   ]
  },
  {
   "cell_type": "code",
   "execution_count": 1,
   "metadata": {
    "scrolled": true
   },
   "outputs": [
    {
     "name": "stderr",
     "output_type": "stream",
     "text": [
      "Using TensorFlow backend.\n"
     ]
    },
    {
     "name": "stdout",
     "output_type": "stream",
     "text": [
      "Downloading data from https://s3.amazonaws.com/img-datasets/mnist.npz\n",
      " 9543680/11490434 [=======================>......] - ETA: 0s(50000, 28, 28) (50000,)\n"
     ]
    },
    {
     "data": {
      "image/png": "[encoded data removed]",
      "text/plain": [
       "<matplotlib.figure.Figure at 0x7fa3d0a17198>"
      ]
     },
     "metadata": {},
     "output_type": "display_data"
    }
   ],
   "source": [
    "from preprocessed_mnist import load_dataset\n",
    "X_train, y_train, X_val, y_val, X_test, y_test = load_dataset()\n",
    "print(X_train.shape, y_train.shape)\n",
    "import matplotlib.pyplot as plt\n",
    "%matplotlib inline\n",
    "plt.imshow(X_train[0], cmap=\"Greys\");"
   ]
  },
  {
   "cell_type": "markdown",
   "metadata": {},
   "source": [
    "Reshape the input image data from a 2D matrix into a 1D vector for input.\n",
    "\n",
    "One-hot encode the training labels"
   ]
  },
  {
   "cell_type": "code",
   "execution_count": 2,
   "metadata": {},
   "outputs": [
    {
     "name": "stdout",
     "output_type": "stream",
     "text": [
      "(50000, 28, 28) (50000,)\n",
      "(50000, 784) (50000, 10)\n"
     ]
    }
   ],
   "source": [
    "import numpy as  np\n",
    "print(X_train.shape, y_train.shape)\n",
    "X_train = X_train.reshape([X_train.shape[0],X_train.shape[1]*X_train.shape[2]])\n",
    "X_test = X_test.reshape([X_test.shape[0],X_test.shape[1]*X_test.shape[2]])\n",
    "\n",
    "y_train = np.eye(10)[y_train]\n",
    "y_test = np.eye(10)[y_test]\n",
    "print(X_train.shape, y_train.shape)"
   ]
  },
  {
   "cell_type": "markdown",
   "metadata": {},
   "source": [
    "#### Define parameters and graph input\n",
    "\n",
    "Define hyper-parameters, network parameters, and the graph input."
   ]
  },
  {
   "cell_type": "code",
   "execution_count": 23,
   "metadata": {
    "collapsed": true
   },
   "outputs": [],
   "source": [
    "import tensorflow as tf\n",
    "import numpy as np\n",
    "\n",
    "# Parameters\n",
    "learning_rate = 0.001\n",
    "training_epochs = 40\n",
    "batch_size = 200\n",
    "display_step = 1\n",
    "\n",
    "# Network Parameters\n",
    "n_hidden_1 = 100 # 1st layer number of features\n",
    "n_hidden_2 = 100 # 2nd layer number of features\n",
    "n_input = 784    # MNIST data input (img shape: 28*28)\n",
    "n_classes = 10   # MNIST total classes (0-9 digits)\n",
    "\n",
    "# Graph input\n",
    "x = tf.placeholder(\"float\", [None, n_input])\n",
    "y_ = tf.placeholder(\"float\", [None, n_classes])\n",
    "keep_prob = tf.placeholder(tf.float32)"
   ]
  },
  {
   "cell_type": "markdown",
   "metadata": {},
   "source": [
    "#### Define the model as a computational graph"
   ]
  },
  {
   "cell_type": "code",
   "execution_count": 24,
   "metadata": {
    "collapsed": true
   },
   "outputs": [],
   "source": [
    "# Store layers weight & bias\n",
    "xavier_initializer = tf.contrib.layers.xavier_initializer()\n",
    "weights = {\n",
    "    'h1': tf.Variable(xavier_initializer([n_input, n_hidden_1])),\n",
    "    'h2': tf.Variable(xavier_initializer([n_hidden_1, n_hidden_2])),\n",
    "    'out':tf.Variable(xavier_initializer([n_hidden_2, n_classes]))\n",
    "}\n",
    "biases = {\n",
    "    'b1': tf.Variable(tf.zeros([n_hidden_1])),\n",
    "    'b2': tf.Variable(tf.zeros([n_hidden_2])),\n",
    "    'out':tf.Variable(tf.zeros([n_classes]))\n",
    "}\n",
    "\n",
    "# Define model\n",
    "def model(x, weights, biases, keep_prob):\n",
    "    # Hidden layer with RELU activation\n",
    "    layer_1 = tf.add(tf.matmul(x, weights['h1']), biases['b1'])\n",
    "    layer_1 = tf.nn.relu(layer_1)\n",
    "    layer_1 = tf.nn.dropout(layer_1, keep_prob)\n",
    "    # Hidden layer with RELU activation\n",
    "    layer_2 = tf.add(tf.matmul(layer_1, weights['h2']), biases['b2'])\n",
    "    layer_2 = tf.nn.relu(layer_2)\n",
    "    layer_2 = tf.nn.dropout(layer_2, keep_prob)\n",
    "    # Output layer with linear activation\n",
    "    output_layer = tf.matmul(layer_2, weights['out']) + biases['out']\n",
    "    return output_layer"
   ]
  },
  {
   "cell_type": "markdown",
   "metadata": {},
   "source": [
    "#### Construct model\n",
    "\n",
    "Construct the model\n",
    "\n",
    "Define the loss and optimizer."
   ]
  },
  {
   "cell_type": "code",
   "execution_count": 25,
   "metadata": {
    "collapsed": true
   },
   "outputs": [],
   "source": [
    "# Construct model\n",
    "y = model(x, weights, biases, keep_prob)\n",
    "\n",
    "# Define loss and optimizer\n",
    "loss = tf.reduce_mean(tf.nn.softmax_cross_entropy_with_logits(labels=y_, logits=y))\n",
    "optimizer = tf.train.AdamOptimizer(learning_rate=learning_rate).minimize(loss)\n",
    "\n",
    "# Initialize variables\n",
    "init = tf.global_variables_initializer()"
   ]
  },
  {
   "cell_type": "markdown",
   "metadata": {},
   "source": [
    "#### Define a procedure for batch processing the input data"
   ]
  },
  {
   "cell_type": "code",
   "execution_count": 26,
   "metadata": {},
   "outputs": [
    {
     "name": "stdout",
     "output_type": "stream",
     "text": [
      "[0 1 2 3 4 5 6 7 8 9]\n",
      "[[ 0  1  2  3  4  5  6  7  8  9]\n",
      " [10 11 12 13 14 15 16 17 18 19]\n",
      " [20 21 22 23 24 25 26 27 28 29]\n",
      " [30 31 32 33 34 35 36 37 38 39]\n",
      " [40 41 42 43 44 45 46 47 48 49]\n",
      " [50 51 52 53 54 55 56 57 58 59]\n",
      " [60 61 62 63 64 65 66 67 68 69]\n",
      " [70 71 72 73 74 75 76 77 78 79]\n",
      " [80 81 82 83 84 85 86 87 88 89]\n",
      " [90 91 92 93 94 95 96 97 98 99]]\n",
      "\n",
      "5 random samples\n",
      "[8 4 3 0 7]\n",
      "[[80 81 82 83 84 85 86 87 88 89]\n",
      " [40 41 42 43 44 45 46 47 48 49]\n",
      " [30 31 32 33 34 35 36 37 38 39]\n",
      " [ 0  1  2  3  4  5  6  7  8  9]\n",
      " [70 71 72 73 74 75 76 77 78 79]]\n"
     ]
    }
   ],
   "source": [
    "# fetch the next batch\n",
    "def next_batch(num, data, labels):\n",
    "    '''\n",
    "    Return a total of `num` random samples and labels. \n",
    "    '''\n",
    "    idx = np.arange(0 , len(data))\n",
    "    np.random.shuffle(idx)\n",
    "    idx = idx[:num]\n",
    "    data_shuffle = [data[i] for i in idx]\n",
    "    labels_shuffle = [labels[i] for i in idx]\n",
    "\n",
    "    return np.asarray(data_shuffle), np.asarray(labels_shuffle)\n",
    "\n",
    "Xtr, Ytr = np.arange(0, 10), np.arange(0, 100).reshape(10, 10)\n",
    "print(Xtr)\n",
    "print(Ytr)\n",
    "\n",
    "Xtr, Ytr = next_batch(5, Xtr, Ytr)\n",
    "print('\\n5 random samples')\n",
    "print(Xtr)\n",
    "print(Ytr)"
   ]
  },
  {
   "cell_type": "markdown",
   "metadata": {},
   "source": [
    "#### Train the model"
   ]
  },
  {
   "cell_type": "code",
   "execution_count": 27,
   "metadata": {
    "scrolled": false
   },
   "outputs": [
    {
     "name": "stdout",
     "output_type": "stream",
     "text": [
      "Epoch: 10 Training loss: 0.0505 Test loss: 0.0887\n",
      "Epoch: 20 Training loss: 0.0261 Test loss: 0.0846\n",
      "Epoch: 30 Training loss: 0.0158 Test loss: 0.0819\n",
      "Epoch: 40 Training loss: 0.0102 Test loss: 0.0802\n",
      "Optimization Finished!\n",
      "Training accuracy:  0.9973\n",
      "Test accuracy:  0.9781\n"
     ]
    }
   ],
   "source": [
    "# Training\n",
    "with tf.Session() as sess:\n",
    "    sess.run(init)\n",
    "    train_costs = []\n",
    "    test_costs = []\n",
    "\n",
    "    # Training cycle\n",
    "    for epoch in range(training_epochs):\n",
    "        avg_cost = 0.\n",
    "        total_batch = int(X_train.shape[0]/batch_size)\n",
    "        # Loop over all batches\n",
    "        for i in range(total_batch):\n",
    "            batch_x, batch_y = next_batch(batch_size, X_train, y_train)\n",
    "            # Run optimization and cost ops\n",
    "            _, c = sess.run([optimizer, loss], feed_dict={x: batch_x, y_: batch_y, keep_prob: 0.7})        \n",
    "            # Compute average loss\n",
    "            avg_cost += c / total_batch\n",
    "            \n",
    "        # cache performance on training and test after each epoch for plotting\n",
    "        train_costs.append(sess.run(loss, feed_dict={x: X_train, y_: y_train, keep_prob: 1.0}))\n",
    "        test_costs.append(sess.run(loss, feed_dict={x: X_test, y_: y_test, keep_prob: 1.0}))\n",
    "        \n",
    "        if epoch%10 == 9:\n",
    "            print('Epoch: %02d' % (epoch+1), 'Training loss: %2.4f' % train_costs[-1], 'Test loss: %2.4f' % test_costs[-1])\n",
    "\n",
    "    print (\"Optimization Finished!\")\n",
    "    \n",
    "    # Test trained model\n",
    "    correct_prediction = tf.equal(tf.argmax(y, 1), tf.argmax(y_, 1))\n",
    "    accuracy = tf.reduce_mean(tf.cast(correct_prediction, tf.float32))\n",
    "    training_accuracy = sess.run(accuracy, feed_dict={x: X_train, y_: y_train, keep_prob: 1.0})\n",
    "    test_accuracy = sess.run(accuracy, feed_dict={x: X_test, y_: y_test, keep_prob: 1.0})\n",
    "    \n",
    "    print( \"Training accuracy: \", training_accuracy )\n",
    "    print( \"Test accuracy: \", test_accuracy )"
   ]
  },
  {
   "cell_type": "markdown",
   "metadata": {},
   "source": [
    "#### Plot training loss and test loss"
   ]
  },
  {
   "cell_type": "code",
   "execution_count": 28,
   "metadata": {},
   "outputs": [
    {
     "data": {
      "image/png": "[encoded data removed]",
      "text/plain": [
       "<matplotlib.figure.Figure at 0x7fa37de79cc0>"
      ]
     },
     "metadata": {},
     "output_type": "display_data"
    }
   ],
   "source": [
    "%matplotlib inline\n",
    "iterations = list(range(training_epochs))\n",
    "plt.plot(iterations, train_costs, label='Train')\n",
    "plt.plot(iterations, test_costs, label='Test')\n",
    "plt.ylabel('cost')\n",
    "plt.xlabel('epochs')\n",
    "plt.legend()\n",
    "plt.show()"
   ]
  },
  {
   "cell_type": "code",
   "execution_count": null,
   "metadata": {
    "collapsed": true
   },
   "outputs": [],
   "source": []
  }
 ],
 "metadata": {
  "kernelspec": {
   "display_name": "Python 3",
   "language": "python",
   "name": "python3"
  },
  "language_info": {
   "codemirror_mode": {
    "name": "ipython",
    "version": 3
   },
   "file_extension": ".py",
   "mimetype": "text/x-python",
   "name": "python",
   "nbconvert_exporter": "python",
   "pygments_lexer": "ipython3",
   "version": "3.6.7"
  }
 },
 "nbformat": 4,
 "nbformat_minor": 2
}
