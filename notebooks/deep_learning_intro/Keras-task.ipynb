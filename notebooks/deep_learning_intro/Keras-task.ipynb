{
 "cells": [
  {
   "cell_type": "markdown",
   "metadata": {},
   "source": [
    "# Getting deeper with Keras\n",
    "\n",
    "Jay Urbain\n",
    "\n",
    "* Tensorflow is a powerful and flexible tool, but coding large neural architectures with it is tedious.\n",
    "* There are plenty of deep learning toolkits that work on top of it like Slim, TFLearn, Sonnet, Keras.\n",
    "* Choice is matter of taste and particular task\n",
    "* We'll be using Keras"
   ]
  },
  {
   "cell_type": "code",
   "execution_count": 1,
   "metadata": {},
   "outputs": [
    {
     "name": "stderr",
     "output_type": "stream",
     "text": [
      "Using TensorFlow backend.\n"
     ]
    }
   ],
   "source": [
    "import numpy as np\n",
    "import tensorflow as tf\n",
    "from tensorflow import keras\n",
    "from keras.datasets import mnist\n",
    "\n",
    "mnist = keras.datasets.mnist\n",
    "(X_train, y_train), (X_test, y_test) = mnist.load_data()"
   ]
  },
  {
   "cell_type": "code",
   "execution_count": 2,
   "metadata": {
    "scrolled": true
   },
   "outputs": [
    {
     "data": {
      "image/png": "[encoded data removed]",
      "text/plain": [
       "<Figure size 432x288 with 1 Axes>"
      ]
     },
     "metadata": {
      "needs_background": "light"
     },
     "output_type": "display_data"
    }
   ],
   "source": [
    "import matplotlib.pyplot as plt\n",
    "%matplotlib inline\n",
    "plt.imshow(X_train[0]);"
   ]
  },
  {
   "cell_type": "code",
   "execution_count": 3,
   "metadata": {},
   "outputs": [
    {
     "name": "stdout",
     "output_type": "stream",
     "text": [
      "(60000, 28, 28)\n",
      "(60000,)\n",
      "(10000, 28, 28)\n",
      "(10000,)\n"
     ]
    }
   ],
   "source": [
    "print(X_train.shape)\n",
    "print(y_train.shape)\n",
    "print(X_test.shape)\n",
    "print(y_test.shape)"
   ]
  },
  {
   "cell_type": "markdown",
   "metadata": {},
   "source": [
    "Preprocess the data"
   ]
  },
  {
   "cell_type": "code",
   "execution_count": 4,
   "metadata": {},
   "outputs": [
    {
     "name": "stdout",
     "output_type": "stream",
     "text": [
      "(60000, 28, 28, 1)\n",
      "(60000, 10)\n",
      "(10000, 28, 28, 1)\n",
      "(10000, 10)\n"
     ]
    }
   ],
   "source": [
    "X_train = X_train.reshape((60000, 28, 28, 1))\n",
    "X_train = X_train.astype('float32')/255\n",
    "\n",
    "X_test = X_test.reshape((10000, 28, 28, 1))\n",
    "X_test = X_test.astype('float32')/255\n",
    "\n",
    "num_classes = 10\n",
    "y_train = keras.utils.to_categorical(y_train)\n",
    "y_test = keras.utils.to_categorical(y_test)\n",
    "\n",
    "print(X_train.shape)\n",
    "print(y_train.shape)\n",
    "print(X_test.shape)\n",
    "print(y_test.shape)"
   ]
  },
  {
   "cell_type": "markdown",
   "metadata": {},
   "source": [
    "#### Define model"
   ]
  },
  {
   "cell_type": "code",
   "execution_count": 17,
   "metadata": {},
   "outputs": [],
   "source": [
    "from keras.models import Sequential\n",
    "import keras.layers as ll\n",
    "\n",
    "model = Sequential(name=\"mlp\")\n",
    "\n",
    "model.add(ll.InputLayer([28, 28]))\n",
    "\n",
    "model.add(ll.Flatten())\n",
    "\n",
    "# network body\n",
    "model.add(ll.Dense(25))\n",
    "model.add(ll.Activation('linear'))\n",
    "\n",
    "model.add(ll.Dense(25))\n",
    "model.add(ll.Activation('linear'))\n",
    "\n",
    "# output layer: 10 neurons for each class with softmax\n",
    "model.add(ll.Dense(10, activation='softmax'))\n",
    "\n",
    "# categorical_crossentropy is your good old crossentropy\n",
    "# but applied for one-hot-encoded vectors\n",
    "model.compile(\"adam\", \"categorical_crossentropy\", metrics=[\"accuracy\"])"
   ]
  },
  {
   "cell_type": "code",
   "execution_count": 18,
   "metadata": {},
   "outputs": [
    {
     "name": "stdout",
     "output_type": "stream",
     "text": [
      "_________________________________________________________________\n",
      "Layer (type)                 Output Shape              Param #   \n",
      "=================================================================\n",
      "flatten_5 (Flatten)          (None, 784)               0         \n",
      "_________________________________________________________________\n",
      "dense_13 (Dense)             (None, 25)                19625     \n",
      "_________________________________________________________________\n",
      "activation_9 (Activation)    (None, 25)                0         \n",
      "_________________________________________________________________\n",
      "dense_14 (Dense)             (None, 25)                650       \n",
      "_________________________________________________________________\n",
      "activation_10 (Activation)   (None, 25)                0         \n",
      "_________________________________________________________________\n",
      "dense_15 (Dense)             (None, 10)                260       \n",
      "=================================================================\n",
      "Total params: 20,535\n",
      "Trainable params: 20,535\n",
      "Non-trainable params: 0\n",
      "_________________________________________________________________\n"
     ]
    }
   ],
   "source": [
    "model.summary()"
   ]
  },
  {
   "cell_type": "markdown",
   "metadata": {},
   "source": [
    "### Model interface\n",
    "\n",
    "Keras models follow __Scikit-learn__'s interface of fit/predict with some notable extensions. Let's take a tour."
   ]
  },
  {
   "cell_type": "code",
   "execution_count": 19,
   "metadata": {},
   "outputs": [
    {
     "ename": "ValueError",
     "evalue": "Error when checking input: expected input_5 to have 3 dimensions, but got array with shape (60000, 28, 28, 1)",
     "output_type": "error",
     "traceback": [
      "\u001b[0;31m---------------------------------------------------------------------------\u001b[0m",
      "\u001b[0;31mValueError\u001b[0m                                Traceback (most recent call last)",
      "\u001b[0;32m<ipython-input-19-40493952b8e8>\u001b[0m in \u001b[0;36m<module>\u001b[0;34m\u001b[0m\n\u001b[1;32m      6\u001b[0m history = model.fit(X_train, y_train.reshape(-1,1),\n\u001b[1;32m      7\u001b[0m           \u001b[0mbatch_size\u001b[0m\u001b[0;34m=\u001b[0m\u001b[0;36m128\u001b[0m\u001b[0;34m,\u001b[0m \u001b[0mepochs\u001b[0m\u001b[0;34m=\u001b[0m\u001b[0;36m20\u001b[0m\u001b[0;34m,\u001b[0m\u001b[0;34m\u001b[0m\u001b[0;34m\u001b[0m\u001b[0m\n\u001b[0;32m----> 8\u001b[0;31m           verbose=2)\n\u001b[0m\u001b[1;32m      9\u001b[0m \u001b[0;31m#           validation_data=(X_test, y_test))\u001b[0m\u001b[0;34m\u001b[0m\u001b[0;34m\u001b[0m\u001b[0;34m\u001b[0m\u001b[0m\n",
      "\u001b[0;32m~/anaconda3/envs/tf/lib/python3.6/site-packages/keras/engine/training.py\u001b[0m in \u001b[0;36mfit\u001b[0;34m(self, x, y, batch_size, epochs, verbose, callbacks, validation_split, validation_data, shuffle, class_weight, sample_weight, initial_epoch, steps_per_epoch, validation_steps, **kwargs)\u001b[0m\n\u001b[1;32m    950\u001b[0m             \u001b[0msample_weight\u001b[0m\u001b[0;34m=\u001b[0m\u001b[0msample_weight\u001b[0m\u001b[0;34m,\u001b[0m\u001b[0;34m\u001b[0m\u001b[0;34m\u001b[0m\u001b[0m\n\u001b[1;32m    951\u001b[0m             \u001b[0mclass_weight\u001b[0m\u001b[0;34m=\u001b[0m\u001b[0mclass_weight\u001b[0m\u001b[0;34m,\u001b[0m\u001b[0;34m\u001b[0m\u001b[0;34m\u001b[0m\u001b[0m\n\u001b[0;32m--> 952\u001b[0;31m             batch_size=batch_size)\n\u001b[0m\u001b[1;32m    953\u001b[0m         \u001b[0;31m# Prepare validation data.\u001b[0m\u001b[0;34m\u001b[0m\u001b[0;34m\u001b[0m\u001b[0;34m\u001b[0m\u001b[0m\n\u001b[1;32m    954\u001b[0m         \u001b[0mdo_validation\u001b[0m \u001b[0;34m=\u001b[0m \u001b[0;32mFalse\u001b[0m\u001b[0;34m\u001b[0m\u001b[0;34m\u001b[0m\u001b[0m\n",
      "\u001b[0;32m~/anaconda3/envs/tf/lib/python3.6/site-packages/keras/engine/training.py\u001b[0m in \u001b[0;36m_standardize_user_data\u001b[0;34m(self, x, y, sample_weight, class_weight, check_array_lengths, batch_size)\u001b[0m\n\u001b[1;32m    749\u001b[0m             \u001b[0mfeed_input_shapes\u001b[0m\u001b[0;34m,\u001b[0m\u001b[0;34m\u001b[0m\u001b[0;34m\u001b[0m\u001b[0m\n\u001b[1;32m    750\u001b[0m             \u001b[0mcheck_batch_axis\u001b[0m\u001b[0;34m=\u001b[0m\u001b[0;32mFalse\u001b[0m\u001b[0;34m,\u001b[0m  \u001b[0;31m# Don't enforce the batch size.\u001b[0m\u001b[0;34m\u001b[0m\u001b[0;34m\u001b[0m\u001b[0m\n\u001b[0;32m--> 751\u001b[0;31m             exception_prefix='input')\n\u001b[0m\u001b[1;32m    752\u001b[0m \u001b[0;34m\u001b[0m\u001b[0m\n\u001b[1;32m    753\u001b[0m         \u001b[0;32mif\u001b[0m \u001b[0my\u001b[0m \u001b[0;32mis\u001b[0m \u001b[0;32mnot\u001b[0m \u001b[0;32mNone\u001b[0m\u001b[0;34m:\u001b[0m\u001b[0;34m\u001b[0m\u001b[0;34m\u001b[0m\u001b[0m\n",
      "\u001b[0;32m~/anaconda3/envs/tf/lib/python3.6/site-packages/keras/engine/training_utils.py\u001b[0m in \u001b[0;36mstandardize_input_data\u001b[0;34m(data, names, shapes, check_batch_axis, exception_prefix)\u001b[0m\n\u001b[1;32m    126\u001b[0m                         \u001b[0;34m': expected '\u001b[0m \u001b[0;34m+\u001b[0m \u001b[0mnames\u001b[0m\u001b[0;34m[\u001b[0m\u001b[0mi\u001b[0m\u001b[0;34m]\u001b[0m \u001b[0;34m+\u001b[0m \u001b[0;34m' to have '\u001b[0m \u001b[0;34m+\u001b[0m\u001b[0;34m\u001b[0m\u001b[0;34m\u001b[0m\u001b[0m\n\u001b[1;32m    127\u001b[0m                         \u001b[0mstr\u001b[0m\u001b[0;34m(\u001b[0m\u001b[0mlen\u001b[0m\u001b[0;34m(\u001b[0m\u001b[0mshape\u001b[0m\u001b[0;34m)\u001b[0m\u001b[0;34m)\u001b[0m \u001b[0;34m+\u001b[0m \u001b[0;34m' dimensions, but got array '\u001b[0m\u001b[0;34m\u001b[0m\u001b[0;34m\u001b[0m\u001b[0m\n\u001b[0;32m--> 128\u001b[0;31m                         'with shape ' + str(data_shape))\n\u001b[0m\u001b[1;32m    129\u001b[0m                 \u001b[0;32mif\u001b[0m \u001b[0;32mnot\u001b[0m \u001b[0mcheck_batch_axis\u001b[0m\u001b[0;34m:\u001b[0m\u001b[0;34m\u001b[0m\u001b[0;34m\u001b[0m\u001b[0m\n\u001b[1;32m    130\u001b[0m                     \u001b[0mdata_shape\u001b[0m \u001b[0;34m=\u001b[0m \u001b[0mdata_shape\u001b[0m\u001b[0;34m[\u001b[0m\u001b[0;36m1\u001b[0m\u001b[0;34m:\u001b[0m\u001b[0;34m]\u001b[0m\u001b[0;34m\u001b[0m\u001b[0;34m\u001b[0m\u001b[0m\n",
      "\u001b[0;31mValueError\u001b[0m: Error when checking input: expected input_5 to have 3 dimensions, but got array with shape (60000, 28, 28, 1)"
     ]
    }
   ],
   "source": [
    "# fit(X,y) ships with a neat automatic logging.\n",
    "#          Highly customizable under the hood.\n",
    "# model.fit(X_train, y_train,\n",
    "#           validation_data=(X_test, y_test), epochs=5);\n",
    "\n",
    "history = model.fit(X_train, y_train.reshape(-1,1),\n",
    "          batch_size=128, epochs=20,\n",
    "          verbose=2)\n",
    "#           validation_data=(X_test, y_test))"
   ]
  },
  {
   "cell_type": "code",
   "execution_count": 9,
   "metadata": {},
   "outputs": [
    {
     "name": "stdout",
     "output_type": "stream",
     "text": [
      "2/2 [==============================] - 0s\n"
     ]
    },
    {
     "data": {
      "text/plain": [
       "array([[  2.19691530e-04,   2.33067796e-02,   8.44826028e-02,\n",
       "          8.43768835e-01,   3.28484589e-06,   1.48870070e-02,\n",
       "          1.89019216e-03,   8.13943046e-09,   3.14378813e-02,\n",
       "          3.66758718e-06],\n",
       "       [  2.27790019e-06,   2.51845086e-05,   6.56424556e-03,\n",
       "          7.39667797e-03,   1.15967309e-03,   7.40212528e-03,\n",
       "          3.55782436e-06,   2.09837594e-06,   9.77138400e-01,\n",
       "          3.05777270e-04]], dtype=float32)"
      ]
     },
     "execution_count": 9,
     "metadata": {},
     "output_type": "execute_result"
    }
   ],
   "source": [
    "# estimate probabilities P(y|x)\n",
    "model.predict_proba(X_val[:2])"
   ]
  },
  {
   "cell_type": "code",
   "execution_count": 10,
   "metadata": {
    "collapsed": true
   },
   "outputs": [],
   "source": [
    "# Save trained weights\n",
    "model.save(\"weights.h5\")"
   ]
  },
  {
   "cell_type": "code",
   "execution_count": 11,
   "metadata": {},
   "outputs": [
    {
     "name": "stdout",
     "output_type": "stream",
     "text": [
      " 9312/10000 [==========================>...] - ETA: 0s\n",
      "Loss, Accuracy =  [0.28471082768142225, 0.9194]\n"
     ]
    }
   ],
   "source": [
    "print(\"\\nLoss, Accuracy = \", model.evaluate(X_test, y_test))"
   ]
  },
  {
   "cell_type": "markdown",
   "metadata": {},
   "source": [
    "### Whoops!\n",
    "So far our model is staggeringly inefficient. There is something wring with it. Guess, what?"
   ]
  },
  {
   "cell_type": "markdown",
   "metadata": {},
   "source": [
    "#### My Keras model"
   ]
  },
  {
   "cell_type": "code",
   "execution_count": 36,
   "metadata": {},
   "outputs": [],
   "source": [
    "import keras\n",
    "from keras.models import Sequential\n",
    "import keras.layers as ll\n",
    "from keras import regularizers\n",
    "from keras import optimizers\n",
    "\n",
    "model = Sequential(name=\"mlp\")\n",
    "\n",
    "model.add(ll.InputLayer([28, 28]))\n",
    "\n",
    "model.add(ll.Flatten())\n",
    "\n",
    "# network body\n",
    "# model.add(ll.Dense(100, activation='relu', kernel_regularizer=regularizers.l2(0.001), activity_regularizer=regularizers.l1(0.001) ))\n",
    "model.add(ll.Dense(100, activation='relu'))\n",
    "model.add(ll.Dropout(0.3, noise_shape=None, seed=None))\n",
    "#model.add(ll.Dense(100, activation='relu', kernel_regularizer=regularizers.l2(0.001), activity_regularizer=regularizers.l1(0.001) ))\n",
    "model.add(ll.Dense(100, activation='relu'))\n",
    "model.add(ll.Dropout(0.3, noise_shape=None, seed=None))\n",
    "\n",
    "# output layer: 10 neurons for each class with softmax\n",
    "model.add(ll.Dense(10, activation='softmax'))\n",
    "\n",
    "# categorical_crossentropy is your good old crossentropy\n",
    "# but applied for one-hot-encoded vectors\n",
    "\n",
    "# opt = optimizers.Adam(lr=0.001, beta_1=0.9, beta_2=0.999, epsilon=None, decay=0.0)\n",
    "\n",
    "model.compile(\"adam\", \"categorical_crossentropy\", metrics=[\"accuracy\"])"
   ]
  },
  {
   "cell_type": "code",
   "execution_count": 37,
   "metadata": {},
   "outputs": [
    {
     "name": "stdout",
     "output_type": "stream",
     "text": [
      "_________________________________________________________________\n",
      "Layer (type)                 Output Shape              Param #   \n",
      "=================================================================\n",
      "input_12 (InputLayer)        (None, 28, 28)            0         \n",
      "_________________________________________________________________\n",
      "flatten_12 (Flatten)         (None, 784)               0         \n",
      "_________________________________________________________________\n",
      "dense_34 (Dense)             (None, 100)               78500     \n",
      "_________________________________________________________________\n",
      "dropout_19 (Dropout)         (None, 100)               0         \n",
      "_________________________________________________________________\n",
      "dense_35 (Dense)             (None, 100)               10100     \n",
      "_________________________________________________________________\n",
      "dropout_20 (Dropout)         (None, 100)               0         \n",
      "_________________________________________________________________\n",
      "dense_36 (Dense)             (None, 10)                1010      \n",
      "=================================================================\n",
      "Total params: 89,610\n",
      "Trainable params: 89,610\n",
      "Non-trainable params: 0\n",
      "_________________________________________________________________\n"
     ]
    }
   ],
   "source": [
    "model.summary()"
   ]
  },
  {
   "cell_type": "markdown",
   "metadata": {},
   "source": [
    "## Keras + tensorboard\n",
    "\n",
    "Remember the interactive graphs from Tensorboard one notebook ago? \n",
    "\n",
    "Thing is, Keras can use tensorboard to show you a lot of useful information about the learning progress. Just take a look!"
   ]
  },
  {
   "cell_type": "code",
   "execution_count": 38,
   "metadata": {},
   "outputs": [],
   "source": [
    "! rm -r /tmp/tboard/**"
   ]
  },
  {
   "cell_type": "code",
   "execution_count": 39,
   "metadata": {},
   "outputs": [
    {
     "name": "stdout",
     "output_type": "stream",
     "text": [
      "Train on 50000 samples, validate on 10000 samples\n",
      "Epoch 1/50\n",
      "50000/50000 [==============================] - 8s - loss: 0.4199 - acc: 0.8711 - val_loss: 0.1394 - val_acc: 0.9585\n",
      "Epoch 2/50\n",
      "50000/50000 [==============================] - 8s - loss: 0.2123 - acc: 0.9363 - val_loss: 0.1156 - val_acc: 0.9675\n",
      "Epoch 3/50\n",
      "50000/50000 [==============================] - 8s - loss: 0.1698 - acc: 0.9500 - val_loss: 0.0958 - val_acc: 0.9730\n",
      "Epoch 4/50\n",
      "50000/50000 [==============================] - 8s - loss: 0.1492 - acc: 0.9548 - val_loss: 0.0940 - val_acc: 0.9746\n",
      "Epoch 5/50\n",
      "50000/50000 [==============================] - 8s - loss: 0.1357 - acc: 0.9582 - val_loss: 0.0878 - val_acc: 0.9743\n",
      "Epoch 6/50\n",
      "50000/50000 [==============================] - 7s - loss: 0.1248 - acc: 0.9617 - val_loss: 0.0955 - val_acc: 0.9739\n",
      "Epoch 7/50\n",
      "50000/50000 [==============================] - 7s - loss: 0.1167 - acc: 0.9646 - val_loss: 0.0834 - val_acc: 0.9761\n",
      "Epoch 8/50\n",
      "50000/50000 [==============================] - 8s - loss: 0.1094 - acc: 0.9660 - val_loss: 0.0813 - val_acc: 0.9777\n",
      "Epoch 9/50\n",
      "50000/50000 [==============================] - 8s - loss: 0.1033 - acc: 0.9678 - val_loss: 0.0814 - val_acc: 0.9771\n",
      "Epoch 10/50\n",
      "50000/50000 [==============================] - 8s - loss: 0.0978 - acc: 0.9692 - val_loss: 0.0797 - val_acc: 0.9782\n",
      "Epoch 11/50\n",
      "50000/50000 [==============================] - 8s - loss: 0.0950 - acc: 0.9695 - val_loss: 0.0794 - val_acc: 0.9783\n",
      "Epoch 12/50\n",
      "50000/50000 [==============================] - 8s - loss: 0.0893 - acc: 0.9720 - val_loss: 0.0835 - val_acc: 0.9787\n",
      "Epoch 13/50\n",
      "50000/50000 [==============================] - 8s - loss: 0.0869 - acc: 0.9728 - val_loss: 0.0857 - val_acc: 0.9762\n",
      "Epoch 14/50\n",
      "50000/50000 [==============================] - 8s - loss: 0.0864 - acc: 0.9729 - val_loss: 0.0792 - val_acc: 0.9785\n",
      "Epoch 15/50\n",
      "50000/50000 [==============================] - 8s - loss: 0.0838 - acc: 0.9740 - val_loss: 0.0786 - val_acc: 0.9790\n",
      "Epoch 16/50\n",
      "50000/50000 [==============================] - 8s - loss: 0.0808 - acc: 0.9744 - val_loss: 0.0830 - val_acc: 0.9770\n",
      "Epoch 17/50\n",
      "50000/50000 [==============================] - 7s - loss: 0.0794 - acc: 0.9751 - val_loss: 0.0842 - val_acc: 0.9788\n",
      "Epoch 18/50\n",
      "50000/50000 [==============================] - 7s - loss: 0.0805 - acc: 0.9746 - val_loss: 0.0764 - val_acc: 0.9797\n",
      "Epoch 19/50\n",
      "50000/50000 [==============================] - 8s - loss: 0.0753 - acc: 0.9756 - val_loss: 0.0808 - val_acc: 0.9781\n",
      "Epoch 20/50\n",
      "50000/50000 [==============================] - 8s - loss: 0.0747 - acc: 0.9762 - val_loss: 0.0875 - val_acc: 0.9783\n",
      "Epoch 21/50\n",
      "50000/50000 [==============================] - 8s - loss: 0.0710 - acc: 0.9776 - val_loss: 0.0814 - val_acc: 0.9800\n",
      "Epoch 22/50\n",
      "50000/50000 [==============================] - 7s - loss: 0.0709 - acc: 0.9776 - val_loss: 0.0853 - val_acc: 0.9792\n",
      "Epoch 23/50\n",
      "50000/50000 [==============================] - 7s - loss: 0.0732 - acc: 0.9769 - val_loss: 0.0830 - val_acc: 0.9788\n",
      "Epoch 24/50\n",
      "50000/50000 [==============================] - 7s - loss: 0.0658 - acc: 0.9789 - val_loss: 0.0761 - val_acc: 0.9800\n",
      "Epoch 25/50\n",
      "50000/50000 [==============================] - 8s - loss: 0.0687 - acc: 0.9787 - val_loss: 0.0825 - val_acc: 0.9786\n",
      "Epoch 26/50\n",
      "50000/50000 [==============================] - 8s - loss: 0.0689 - acc: 0.9783 - val_loss: 0.0772 - val_acc: 0.9820\n",
      "Epoch 27/50\n",
      "50000/50000 [==============================] - 8s - loss: 0.0623 - acc: 0.9805 - val_loss: 0.0819 - val_acc: 0.9795\n",
      "Epoch 28/50\n",
      "50000/50000 [==============================] - 8s - loss: 0.0669 - acc: 0.9784 - val_loss: 0.0803 - val_acc: 0.9799\n",
      "Epoch 29/50\n",
      "50000/50000 [==============================] - 8s - loss: 0.0629 - acc: 0.9802 - val_loss: 0.0842 - val_acc: 0.9809\n",
      "Epoch 30/50\n",
      "50000/50000 [==============================] - 8s - loss: 0.0614 - acc: 0.9807 - val_loss: 0.0839 - val_acc: 0.9803\n",
      "Epoch 31/50\n",
      "50000/50000 [==============================] - 8s - loss: 0.0628 - acc: 0.9799 - val_loss: 0.0862 - val_acc: 0.9782\n",
      "Epoch 32/50\n",
      "50000/50000 [==============================] - 8s - loss: 0.0616 - acc: 0.9798 - val_loss: 0.0797 - val_acc: 0.9793\n",
      "Epoch 33/50\n",
      "50000/50000 [==============================] - 8s - loss: 0.0623 - acc: 0.9806 - val_loss: 0.0787 - val_acc: 0.9796\n",
      "Epoch 34/50\n",
      "50000/50000 [==============================] - 8s - loss: 0.0605 - acc: 0.9809 - val_loss: 0.0795 - val_acc: 0.9820\n",
      "Epoch 35/50\n",
      "50000/50000 [==============================] - 8s - loss: 0.0586 - acc: 0.9813 - val_loss: 0.0811 - val_acc: 0.9798\n",
      "Epoch 36/50\n",
      "50000/50000 [==============================] - 8s - loss: 0.0583 - acc: 0.9817 - val_loss: 0.0908 - val_acc: 0.9783\n",
      "Epoch 37/50\n",
      "50000/50000 [==============================] - 8s - loss: 0.0595 - acc: 0.9813 - val_loss: 0.0845 - val_acc: 0.9806\n",
      "Epoch 38/50\n",
      "50000/50000 [==============================] - 8s - loss: 0.0598 - acc: 0.9811 - val_loss: 0.0867 - val_acc: 0.9790\n",
      "Epoch 39/50\n",
      "50000/50000 [==============================] - 8s - loss: 0.0578 - acc: 0.9815 - val_loss: 0.0855 - val_acc: 0.9786\n",
      "Epoch 40/50\n",
      "50000/50000 [==============================] - 8s - loss: 0.0546 - acc: 0.9826 - val_loss: 0.0830 - val_acc: 0.9799\n",
      "Epoch 41/50\n",
      "50000/50000 [==============================] - 8s - loss: 0.0570 - acc: 0.9831 - val_loss: 0.0918 - val_acc: 0.9778\n",
      "Epoch 42/50\n",
      "50000/50000 [==============================] - 8s - loss: 0.0563 - acc: 0.9814 - val_loss: 0.0861 - val_acc: 0.9810\n",
      "Epoch 43/50\n",
      "50000/50000 [==============================] - 8s - loss: 0.0542 - acc: 0.9823 - val_loss: 0.0892 - val_acc: 0.9783\n",
      "Epoch 44/50\n",
      "50000/50000 [==============================] - 8s - loss: 0.0556 - acc: 0.9825 - val_loss: 0.0900 - val_acc: 0.9795\n",
      "Epoch 45/50\n",
      "50000/50000 [==============================] - 8s - loss: 0.0514 - acc: 0.9834 - val_loss: 0.0899 - val_acc: 0.9803\n",
      "Epoch 46/50\n",
      "50000/50000 [==============================] - 8s - loss: 0.0525 - acc: 0.9831 - val_loss: 0.0917 - val_acc: 0.9786\n",
      "Epoch 47/50\n",
      "50000/50000 [==============================] - 8s - loss: 0.0526 - acc: 0.9834 - val_loss: 0.0902 - val_acc: 0.9788\n",
      "Epoch 48/50\n",
      "50000/50000 [==============================] - 7s - loss: 0.0531 - acc: 0.9834 - val_loss: 0.0912 - val_acc: 0.9794\n",
      "Epoch 49/50\n",
      "50000/50000 [==============================] - 8s - loss: 0.0532 - acc: 0.9836 - val_loss: 0.0865 - val_acc: 0.9786\n",
      "Epoch 50/50\n",
      "50000/50000 [==============================] - 7s - loss: 0.0506 - acc: 0.9835 - val_loss: 0.0911 - val_acc: 0.9797\n"
     ]
    }
   ],
   "source": [
    "from keras.callbacks import TensorBoard\n",
    "num_epochs = 50\n",
    "history = model.fit(X_train, y_train, validation_data=(X_val, y_val), \n",
    "          epochs=num_epochs,\n",
    "          callbacks=[TensorBoard(\"/tmp/tboard\")])"
   ]
  },
  {
   "cell_type": "code",
   "execution_count": 40,
   "metadata": {},
   "outputs": [
    {
     "name": "stdout",
     "output_type": "stream",
     "text": [
      "50\n"
     ]
    },
    {
     "data": {
      "image/png": "[encoded data removed]",
      "text/plain": [
       "<matplotlib.figure.Figure at 0x7fbc31c82ac8>"
      ]
     },
     "metadata": {},
     "output_type": "display_data"
    }
   ],
   "source": [
    "import matplotlib.pyplot as plt\n",
    "\n",
    "acc = history.history['acc']\n",
    "print(len(acc))\n",
    "val_acc = history.history['val_acc']\n",
    "loss = history.history['loss']\n",
    "val_loss = history.history['val_loss']\n",
    "\n",
    "epochs = range(1, len(acc) + 1)\n",
    "\n",
    "# \"bo\" is for \"blue dot\"\n",
    "plt.plot(epochs, loss, 'y', label='Training loss')\n",
    "# b is for \"solid blue line\"\n",
    "plt.plot(epochs, val_loss, 'b', label='Validation loss')\n",
    "plt.title('Training and validation loss')\n",
    "plt.xlabel('Epochs')\n",
    "plt.ylabel('Loss')\n",
    "plt.legend()\n",
    "\n",
    "plt.show()"
   ]
  },
  {
   "cell_type": "code",
   "execution_count": 41,
   "metadata": {},
   "outputs": [
    {
     "name": "stdout",
     "output_type": "stream",
     "text": [
      " 9472/10000 [===========================>..] - ETA: 0s\n",
      "Test accuracy: 97.72999999999999 %\n",
      "Great job!\n"
     ]
    }
   ],
   "source": [
    "# Test score...\n",
    "test_predictions = model.predict_proba(X_test).argmax(axis=-1)\n",
    "test_answers = y_test.argmax(axis=-1)\n",
    "\n",
    "test_accuracy = np.mean(test_predictions==test_answers)\n",
    "\n",
    "print(\"\\nTest accuracy: {} %\".format(test_accuracy*100))\n",
    "\n",
    "assert test_accuracy>=0.92,\"Logistic regression can do better!\"\n",
    "assert test_accuracy>=0.975,\"Your network can do better!\"\n",
    "print(\"Great job!\")"
   ]
  },
  {
   "cell_type": "code",
   "execution_count": 42,
   "metadata": {
    "collapsed": true
   },
   "outputs": [],
   "source": [
    "answer_submitter = grading.Grader(\"0ybD9ZxxEeea8A6GzH-6CA\")\n",
    "answer_submitter.set_answer(\"N56DR\", test_accuracy)"
   ]
  },
  {
   "cell_type": "code",
   "execution_count": 44,
   "metadata": {},
   "outputs": [
    {
     "name": "stdout",
     "output_type": "stream",
     "text": [
      "Submitted to Coursera platform. See results on assignment page!\n"
     ]
    }
   ],
   "source": [
    "answer_submitter.submit('jay.urbain@gmail.com', 'UC8V2hBDKDl4tPKn')"
   ]
  },
  {
   "cell_type": "markdown",
   "metadata": {},
   "source": [
    "# Tips & tricks\n",
    "\n",
    "Here are some tips on what you could do. Don't worry, to reach the passing threshold you don't need to try all the ideas listed here, feel free to stop once you reach the 0.975 accuracy mark.\n",
    "\n",
    " * __Network size__\n",
    "   * More neurons, \n",
    "   * More layers, ([docs](https://keras.io/))\n",
    "\n",
    "   * Nonlinearities in the hidden layers\n",
    "     * tanh, relu, leaky relu, etc\n",
    "   * Larger networks may take more epochs to train, so don't discard your net just because it could didn't beat the baseline in 5 epochs.\n",
    "\n",
    "\n",
    " * __Early Stopping__\n",
    "   * Training for 100 epochs regardless of anything is probably a bad idea.\n",
    "   * Some networks converge over 5 epochs, others - over 500.\n",
    "   * Way to go: stop when validation score is 10 iterations past maximum\n",
    "     \n",
    "\n",
    " * __Faster optimization__\n",
    "   * rmsprop, nesterov_momentum, adam, adagrad and so on.\n",
    "     * Converge faster and sometimes reach better optima\n",
    "     * It might make sense to tweak learning rate/momentum, other learning parameters, batch size and number of epochs\n",
    "\n",
    "\n",
    " * __Regularize__ to prevent overfitting\n",
    "   * Add some L2 weight norm to the loss function, theano will do the rest\n",
    "     * Can be done manually or via - https://keras.io/regularizers/\n",
    "   \n",
    "   \n",
    " * __Data augmemntation__ - getting 5x as large dataset for free is a great deal\n",
    "   * https://keras.io/preprocessing/image/\n",
    "   * Zoom-in+slice = move\n",
    "   * Rotate+zoom(to remove black stripes)\n",
    "   * any other perturbations\n",
    "   * Simple way to do that (if you have PIL/Image): \n",
    "     * ```from scipy.misc import imrotate,imresize```\n",
    "     * and a few slicing\n",
    "   * Stay realistic. There's usually no point in flipping dogs upside down as that is not the way you usually see them."
   ]
  },
  {
   "cell_type": "code",
   "execution_count": 19,
   "metadata": {},
   "outputs": [
    {
     "name": "stdout",
     "output_type": "stream",
     "text": [
      "_________________________________________________________________\n",
      "Layer (type)                 Output Shape              Param #   \n",
      "=================================================================\n",
      "input_2 (InputLayer)         (None, 28, 28)            0         \n",
      "_________________________________________________________________\n",
      "flatten_2 (Flatten)          (None, 784)               0         \n",
      "_________________________________________________________________\n",
      "dense_4 (Dense)              (None, 25)                19625     \n",
      "_________________________________________________________________\n",
      "activation_3 (Activation)    (None, 25)                0         \n",
      "_________________________________________________________________\n",
      "dense_5 (Dense)              (None, 25)                650       \n",
      "_________________________________________________________________\n",
      "activation_4 (Activation)    (None, 25)                0         \n",
      "_________________________________________________________________\n",
      "dense_6 (Dense)              (None, 10)                260       \n",
      "=================================================================\n",
      "Total params: 20,535\n",
      "Trainable params: 20,535\n",
      "Non-trainable params: 0\n",
      "_________________________________________________________________\n"
     ]
    }
   ],
   "source": [
    "model.summary()"
   ]
  },
  {
   "cell_type": "code",
   "execution_count": null,
   "metadata": {
    "collapsed": true
   },
   "outputs": [],
   "source": []
  }
 ],
 "metadata": {
  "kernelspec": {
   "display_name": "Python (tf)",
   "language": "python",
   "name": "tf"
  },
  "language_info": {
   "codemirror_mode": {
    "name": "ipython",
    "version": 3
   },
   "file_extension": ".py",
   "mimetype": "text/x-python",
   "name": "python",
   "nbconvert_exporter": "python",
   "pygments_lexer": "ipython3",
   "version": "3.6.7"
  },
  "toc": {
   "colors": {
    "hover_highlight": "#DAA520",
    "navigate_num": "#000000",
    "navigate_text": "#333333",
    "running_highlight": "#FF0000",
    "selected_highlight": "#FFD700",
    "sidebar_border": "#EEEEEE",
    "wrapper_background": "#FFFFFF"
   },
   "moveMenuLeft": true,
   "nav_menu": {
    "height": "120px",
    "width": "252px"
   },
   "navigate_menu": true,
   "number_sections": true,
   "sideBar": true,
   "threshold": 4,
   "toc_cell": false,
   "toc_section_display": "block",
   "toc_window_display": false,
   "widenNotebook": false
  }
 },
 "nbformat": 4,
 "nbformat_minor": 1
}
