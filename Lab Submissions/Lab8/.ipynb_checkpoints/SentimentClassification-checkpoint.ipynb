{
 "cells": [
  {
   "cell_type": "markdown",
   "metadata": {
    "colab_type": "text",
    "id": "XIdUeW1g7PUm"
   },
   "source": [
    "\n",
    "\n",
    "### Sentiment Classification\n",
    "\n",
    "Jay Urbain, PhD\n",
    "\n",
    "#### Predict Sentiment From Movie Reviews Using Deep Learning\n",
    "\n",
    "We will be training a neural network for text classification. In text classification, documents or segments of text are assigned to different categories. For example, categories could be positive or negative sentiment, different authors, different topics, or different writing styles.\n",
    "\n",
    "In this lab, you will discover how you can predict the sentiment of movie reviews as either positive or negative in Python using the Keras deep learning library.\n",
    "\n",
    "We will build several models and evaluate the results.\n",
    "\n",
    "Credits:  \n",
    "TensorFlow, https://www.tensorflow.org/tutorials/.  \n",
    "Froncois Challet, 'Deep Learning with Python.'\n",
    "\n",
    "Topic:  \n",
    "- NLP terminology  \n",
    "- IMDB dataset description\n",
    "- Dataset preparation  \n",
    "- Language embeddings  \n",
    "- Develop and evaluate a multi-layer perceptron (MLP)  \n",
    "- Develop and evaluate a one-dimensional CNN  \n",
    "- Develop and evaluate a one-dimensional RNN  \n",
    "- Model comparison and analysis  "
   ]
  },
  {
   "cell_type": "markdown",
   "metadata": {
    "colab_type": "text",
    "id": "TsFEVuiA7PUt"
   },
   "source": [
    "#### NLP terminology for describing input data:\n",
    "\n",
    "- `token` - A unit of text, typically a work, but it could also be a phrase like \"New York\", a sub-word like \"mega\" in \"megabyte\", or a letter like \"m\". Each token can be represented as a distinct number in a process called *tokenizing*. \n",
    "- `document` - A sequence of *tokens.* This could be whole book or a tweet. In this case, we're going to classify each *movie review* as having a positive or a negative sentiment.  \n",
    "- `corpus` - A set of *documents.* You can think of this as your \"dataset\". If you want to learn about language in general, you might use a *corpus* like Wikipedia. In this case, we'll use a *corpus* containing movie reviews since each *document* is paired with a rating indicating *sentiment.*\n"
   ]
  },
  {
   "cell_type": "markdown",
   "metadata": {
    "colab_type": "text",
    "id": "8p5-ZPs07PUy"
   },
   "source": [
    "#### Term-document metrics\n",
    "\n",
    "Terms in matrices can be represented by their presence in a document (1/0), term-frequency, `TF-IDF`, a widely used measure of word *importance*, or other application specific metric. In our application, we will use overall word sentiment.\n",
    "\n",
    "`TF` (*Term Frequency*), is the number of times a particular term $w$ appears in a document $d$.  \n",
    "\n",
    "$$TF(w, d) = \\frac{count(w, d)}{\\sum_{v \\in V}count(v, d)}$$  \n",
    "where $w, v$ words, in a document $d$, over the corpus vocabulary $V$.\n",
    "\n",
    "`DF` (*Document Frequency*) is the number of documents a particular word $w$ occurs.\n",
    "\n",
    "`IDF` (*Inversed Document Frequency*) represents how distinctive a word is: \n",
    "\n",
    "$$IDF(w) = log \\frac{|D|}{\\sum_{d \\in D}\\mathbb{1}(w, d)} $$\n",
    "where $D$ is a corpus of documents, $\\mathbb{1}$.\n",
    "\n",
    "`TF-IDF` is the product of $TF*IDF$ and assigns weights to words based on their frequency within a document ($TF$), and their overall distinctiveness ($IDF$) within the corpus.\n",
    "\n",
    "`Sentiment value` for our task will be using the overall sentiment for each individual word."
   ]
  },
  {
   "cell_type": "markdown",
   "metadata": {
    "colab_type": "text",
    "id": "r4U8jE--7PU2"
   },
   "source": [
    "#### Tokenization\n",
    "\n",
    "The ```Tokenizer``` class in Keras allows you to vectorize a text corpus, by turning each text/document into either a sequence of integers (each integer being the index of a token in a dictionary) or into a vector where the coefficient for each token could be binary, based on word count, based on tf-idf, etc.\n",
    "\n",
    "Keras provides the `Tokenizer` class for preparing text documents for deep learning. The Tokenizer must be constructed, and then fit on either raw text documents or integer encoded text documents.\n",
    "\n",
    "Once the Tokenizer has been fit on training data, it can be used to encode documents in the train or test datasets.\n",
    "\n",
    "The `texts_to_matrix()` function on the `Tokenizer` can be used to create one vector per document provided per input. The length of the vectors is the total size of the vocabulary.\n",
    "\n",
    "This function provides a suite of standard bag-of-words model text encoding schemes that can be provided via a mode argument to the function.\n",
    "\n",
    "Once fit, the Tokenizer provides 4 attributes that you can use to query what has been learned about your documents:  \n",
    "- word_counts: A dictionary of words and their counts.  \n",
    "- word_docs: A dictionary of words and how many documents each appeared in.  \n",
    "- word_index: A dictionary of words and their uniquely assigned integers.  \n",
    "- document_count:An integer count of the total number of documents that were used to fit the Tokenizer.  \n"
   ]
  },
  {
   "cell_type": "markdown",
   "metadata": {
    "colab_type": "text",
    "id": "JfS3_cT67PU7"
   },
   "source": [
    "Below is a basic of example of using the Tokenizer class where we encode the sample text using binary, count, and tfidf encoding respectively."
   ]
  },
  {
   "cell_type": "code",
   "execution_count": 2,
   "metadata": {
    "colab": {
     "base_uri": "https://localhost:8080/",
     "height": 612
    },
    "colab_type": "code",
    "id": "DHzXZpKb7PVA",
    "outputId": "c2bb3a21-3852-4fcd-85d7-3dec7d35656f"
   },
   "outputs": [
    {
     "name": "stderr",
     "output_type": "stream",
     "text": [
      "Using TensorFlow backend.\n"
     ]
    },
    {
     "name": "stdout",
     "output_type": "stream",
     "text": [
      "OrderedDict([('great', 2), ('acting', 2), ('waste', 1), ('of', 1), ('time', 1), ('to', 1), ('see', 1), ('this', 1), ('movie', 1), ('effort', 1), ('major', 1), ('looser', 1), ('excellent', 1)])\n",
      "5\n",
      "{'great': 1, 'this': 8, 'of': 4, 'excellent': 13, 'see': 7, 'to': 6, 'acting': 2, 'time': 5, 'movie': 9, 'major': 11, 'waste': 3, 'effort': 10, 'looser': 12}\n",
      "defaultdict(<type 'int'>, {'great': 2, 'this': 1, 'of': 1, 'excellent': 1, 'see': 1, 'to': 1, 'acting': 2, 'time': 1, 'movie': 1, 'major': 1, 'waste': 1, 'effort': 1, 'looser': 1})\n",
      "Binary\n",
      "[[0. 1. 1. 0. 0. 0. 0. 0. 0. 0. 0. 0. 0. 0.]\n",
      " [0. 0. 0. 1. 1. 1. 1. 1. 1. 1. 0. 0. 0. 0.]\n",
      " [0. 1. 1. 0. 0. 0. 0. 0. 0. 0. 1. 0. 0. 0.]\n",
      " [0. 0. 0. 0. 0. 0. 0. 0. 0. 0. 0. 1. 1. 0.]\n",
      " [0. 0. 0. 0. 0. 0. 0. 0. 0. 0. 0. 0. 0. 1.]]\n",
      "\n",
      "Count\n",
      "[[0. 1. 1. 0. 0. 0. 0. 0. 0. 0. 0. 0. 0. 0.]\n",
      " [0. 0. 0. 1. 1. 1. 1. 1. 1. 1. 0. 0. 0. 0.]\n",
      " [0. 1. 1. 0. 0. 0. 0. 0. 0. 0. 1. 0. 0. 0.]\n",
      " [0. 0. 0. 0. 0. 0. 0. 0. 0. 0. 0. 1. 1. 0.]\n",
      " [0. 0. 0. 0. 0. 0. 0. 0. 0. 0. 0. 0. 0. 1.]]\n",
      "\n",
      "tfidf\n",
      "[[0.         0.98082925 0.98082925 0.         0.         0.\n",
      "  0.         0.         0.         0.         0.         0.\n",
      "  0.         0.        ]\n",
      " [0.         0.         0.         1.25276297 1.25276297 1.25276297\n",
      "  1.25276297 1.25276297 1.25276297 1.25276297 0.         0.\n",
      "  0.         0.        ]\n",
      " [0.         0.98082925 0.98082925 0.         0.         0.\n",
      "  0.         0.         0.         0.         1.25276297 0.\n",
      "  0.         0.        ]\n",
      " [0.         0.         0.         0.         0.         0.\n",
      "  0.         0.         0.         0.         0.         1.25276297\n",
      "  1.25276297 0.        ]\n",
      " [0.         0.         0.         0.         0.         0.\n",
      "  0.         0.         0.         0.         0.         0.\n",
      "  0.         1.25276297]]\n"
     ]
    }
   ],
   "source": [
    "from keras.preprocessing.text import Tokenizer\n",
    "# define 5 documents\n",
    "docs = ['Great acting',\n",
    "\t\t'Waste of time to see this movie',\n",
    "\t\t'Great acting effort',\n",
    "\t\t'Major looser',\n",
    "\t\t'Excellent!']\n",
    "# create the tokenizer\n",
    "t = Tokenizer()\n",
    "# fit the tokenizer on the documents\n",
    "t.fit_on_texts(docs)\n",
    "# summarize what was learned\n",
    "print(t.word_counts)\n",
    "print(t.document_count)\n",
    "print(t.word_index)\n",
    "print(t.word_docs)\n",
    "# integer encode documents\n",
    "print(\"Binary\")\n",
    "encoded_docs = t.texts_to_matrix(docs, mode='binary')\n",
    "print(encoded_docs)\n",
    "\n",
    "print(\"\\nCount\")\n",
    "encoded_docs = t.texts_to_matrix(docs, mode='count')\n",
    "print(encoded_docs)\n",
    "\n",
    "print(\"\\ntfidf\")\n",
    "encoded_docs = t.texts_to_matrix(docs, mode='tfidf')\n",
    "print(encoded_docs)"
   ]
  },
  {
   "cell_type": "markdown",
   "metadata": {
    "colab_type": "text",
    "id": "UirOD8k37PVO"
   },
   "source": [
    "#### IMDB dataset\n",
    "\n",
    "The dataset we will be using is the `Large Movie Review Dataset` often referred to as the IMDB dataset.\n",
    "\n",
    "The IMDB dataset was constructed from a collection of 50,000 reviews from IMDB, allowing no more than 30 reviews per movie. The constructed dataset contains an even number of positive and negative reviews, so randomly\n",
    "guessing yields 50% accuracy. A negative review has a score ≤ 4 out of 10, and a positive review has a score ≥ 7 out of 10.\n",
    "\n",
    "The data was collected by Stanford researchers and was used in the 2011 paper: <a href=\"http://ai.stanford.edu/~amaas/data/sentiment/\">Learning Word Vectors for Sentiment Analysis</a>, where an accuracy of 88.89% was achieved.\n",
    "\n",
    "Challenges with classifying sentiment can be shown in the following example which contains positive sentiment words like *funny* and *super witty*, but the overal sentiment of the review is clearly negative. \n",
    "\n",
    "<blockquote>\n",
    "\"*This movie was actually neither that funny, nor super witty.*\"\n",
    "</blockquote>\n",
    "\n",
    "To identify the correct sentiment, we will need to develop models that capture word context.\n"
   ]
  },
  {
   "cell_type": "code",
   "execution_count": 3,
   "metadata": {
    "colab": {
     "base_uri": "https://localhost:8080/",
     "height": 34
    },
    "colab_type": "code",
    "id": "RFzLeVfg7PVT",
    "outputId": "046f29df-cb4d-48aa-ae8e-a7203d96ad5c"
   },
   "outputs": [
    {
     "name": "stdout",
     "output_type": "stream",
     "text": [
      "3\n"
     ]
    }
   ],
   "source": [
    "print(3)"
   ]
  },
  {
   "cell_type": "markdown",
   "metadata": {
    "colab_type": "text",
    "id": "7T1Wxdza7PVh"
   },
   "source": [
    "#### Dataset preparation\n",
    "\n",
    "The `keras.datasets.imdb.load_data()` function allows you to load the dataset in a format that is ready for use in neural network and deep learning models. So we'll be able to skip the data cleansing and tokenization step discussed above. *It's important to understand that in most practical applications, this is a significant amount of work.*\n",
    "\n",
    "Each review in the dataset is labeled by sentiment (positive/negative). Reviews have been preprocessed, and each review is encoded as a sequence of word indexes (integer encoded). For convenience, words are indexed by overall frequency in the dataset, so that for instance the integer \"3\" encodes the 3rd most frequent word in the data. This allows for quick filtering operations such as: \"only consider the top 10,000 most common words, but eliminate the top 20 most common words\".\n",
    "\n",
    "As a convention, \"0\" does not stand for a specific word, but instead is used to encode any unknown word.\n",
    "\n",
    "Calling `imdb.load_data()` the first time will download the IMDB dataset to your computer and store it in your home directory under ~/.keras/datasets/imdb.pkl as a 32 megabyte file.\n",
    "\n",
    "`imdb.load_data()` provides additional arguments including the number of top words to load (where words with a lower integer are marked as zero in the returned data), the number of top words to skip (to avoid the “the”‘s) and the maximum length of reviews to support.\n",
    "\n",
    "Let’s load the dataset and calculate some properties of it. We will start off by loading some libraries and loading the entire IMDB dataset as a training dataset."
   ]
  },
  {
   "cell_type": "code",
   "execution_count": 4,
   "metadata": {
    "colab": {
     "base_uri": "https://localhost:8080/",
     "height": 68
    },
    "colab_type": "code",
    "id": "zyzWn5Bu7PVm",
    "outputId": "8f06660c-b343-451b-a659-dc83198ac573"
   },
   "outputs": [
    {
     "name": "stdout",
     "output_type": "stream",
     "text": [
      "Downloading data from https://s3.amazonaws.com/text-datasets/imdb.npz\n",
      "17465344/17464789 [==============================] - 0s 0us/step\n",
      "17473536/17464789 [==============================] - 0s 0us/step\n"
     ]
    }
   ],
   "source": [
    "import numpy\n",
    "from keras.datasets import imdb\n",
    "from matplotlib import pyplot\n",
    "# load the dataset\n",
    "top_words = 5000\n",
    "(X_train, y_train), (X_test, y_test) = imdb.load_data(num_words=top_words)\n",
    "X = numpy.concatenate((X_train, X_test), axis=0)\n",
    "y = numpy.concatenate((y_train, y_test), axis=0)"
   ]
  },
  {
   "cell_type": "markdown",
   "metadata": {
    "colab_type": "text",
    "id": "fRTbDbRc7PV0"
   },
   "source": [
    "Display the first review. \n",
    "\n",
    "*Note: integers that indicate the absolute popularity of the word in the dataset.* This technique was developed in the Kaggle competition."
   ]
  },
  {
   "cell_type": "code",
   "execution_count": 5,
   "metadata": {
    "colab": {
     "base_uri": "https://localhost:8080/",
     "height": 71
    },
    "colab_type": "code",
    "id": "DOw7pIfz7PV3",
    "outputId": "b4c12c89-a906-49a7-b843-22573955da74"
   },
   "outputs": [
    {
     "data": {
      "text/plain": [
       "array([list([1, 14, 22, 16, 43, 530, 973, 1622, 1385, 65, 458, 4468, 66, 3941, 4, 173, 36, 256, 5, 25, 100, 43, 838, 112, 50, 670, 2, 9, 35, 480, 284, 5, 150, 4, 172, 112, 167, 2, 336, 385, 39, 4, 172, 4536, 1111, 17, 546, 38, 13, 447, 4, 192, 50, 16, 6, 147, 2025, 19, 14, 22, 4, 1920, 4613, 469, 4, 22, 71, 87, 12, 16, 43, 530, 38, 76, 15, 13, 1247, 4, 22, 17, 515, 17, 12, 16, 626, 18, 2, 5, 62, 386, 12, 8, 316, 8, 106, 5, 4, 2223, 2, 16, 480, 66, 3785, 33, 4, 130, 12, 16, 38, 619, 5, 25, 124, 51, 36, 135, 48, 25, 1415, 33, 6, 22, 12, 215, 28, 77, 52, 5, 14, 407, 16, 82, 2, 8, 4, 107, 117, 2, 15, 256, 4, 2, 7, 3766, 5, 723, 36, 71, 43, 530, 476, 26, 400, 317, 46, 7, 4, 2, 1029, 13, 104, 88, 4, 381, 15, 297, 98, 32, 2071, 56, 26, 141, 6, 194, 2, 18, 4, 226, 22, 21, 134, 476, 26, 480, 5, 144, 30, 2, 18, 51, 36, 28, 224, 92, 25, 104, 4, 226, 65, 16, 38, 1334, 88, 12, 16, 283, 5, 16, 4472, 113, 103, 32, 15, 16, 2, 19, 178, 32])],\n",
       "      dtype=object)"
      ]
     },
     "execution_count": 5,
     "metadata": {
      "tags": []
     },
     "output_type": "execute_result"
    }
   ],
   "source": [
    "X[:1]"
   ]
  },
  {
   "cell_type": "markdown",
   "metadata": {
    "colab_type": "text",
    "id": "zq7OisNK7PV-"
   },
   "source": [
    "Load the IMDB word index and display the text for the first review.\n",
    "\n",
    "*Note: the first 3 indices are reserved for padding, start, and unknown word*\n",
    "    "
   ]
  },
  {
   "cell_type": "code",
   "execution_count": 6,
   "metadata": {
    "colab": {
     "base_uri": "https://localhost:8080/",
     "height": 105
    },
    "colab_type": "code",
    "id": "02VV7FHQ7PWA",
    "outputId": "3f4e86e3-ed6a-4c5d-c589-7a24a9302ebc"
   },
   "outputs": [
    {
     "name": "stdout",
     "output_type": "stream",
     "text": [
      "Downloading data from https://s3.amazonaws.com/text-datasets/imdb_word_index.json\n",
      "1646592/1641221 [==============================] - 0s 0us/step\n",
      "1654784/1641221 [==============================] - 0s 0us/step\n",
      "<START> this film was just brilliant casting location scenery story direction everyone's really suited the part they played and you could just imagine being there robert <UNK> is an amazing actor and now the same being director <UNK> father came from the same scottish island as myself so i loved the fact there was a real connection with this film the witty remarks throughout the film were great it was just brilliant so much that i bought the film as soon as it was released for <UNK> and would recommend it to everyone to watch and the fly <UNK> was amazing really cried at the end it was so sad and you know what they say if you cry at a film it must have been good and this definitely was also <UNK> to the two little <UNK> that played the <UNK> of norman and paul they were just brilliant children are often left out of the <UNK> list i think because the stars that play them all grown up are such a big <UNK> for the whole film but these children are amazing and should be <UNK> for what they have done don't you think the whole story was so lovely because it was true and was someone's life after all that was <UNK> with us all\n"
     ]
    }
   ],
   "source": [
    "import keras\n",
    "NUM_WORDS=1000 # only use top 1000 words\n",
    "INDEX_FROM=3   # word index offset\n",
    "\n",
    "# train,test = keras.datasets.imdb.load_data(num_words=NUM_WORDS, index_from=INDEX_FROM)\n",
    "# train_x,train_y = train\n",
    "# test_x,test_y = test\n",
    "\n",
    "word_to_id = keras.datasets.imdb.get_word_index()\n",
    "word_to_id = {k:(v+INDEX_FROM) for k,v in word_to_id.items()}\n",
    "word_to_id[\"<PAD>\"] = 0\n",
    "word_to_id[\"<START>\"] = 1\n",
    "word_to_id[\"<UNK>\"] = 2\n",
    "\n",
    "id_to_word = {value:key for key,value in word_to_id.items()}\n",
    "print(' '.join(id_to_word[id] for id in X[0] ))"
   ]
  },
  {
   "cell_type": "markdown",
   "metadata": {
    "colab_type": "text",
    "id": "-mpczrw17PWG"
   },
   "source": [
    "Display the sentiment label of the first ten reviews"
   ]
  },
  {
   "cell_type": "code",
   "execution_count": 7,
   "metadata": {
    "colab": {
     "base_uri": "https://localhost:8080/",
     "height": 34
    },
    "colab_type": "code",
    "id": "i2f55AMf7PWJ",
    "outputId": "811c9beb-1c76-4ec3-8565-5f8f12a98f99"
   },
   "outputs": [
    {
     "data": {
      "text/plain": [
       "array([1, 0, 0, 1, 0, 0, 1, 0, 1, 0])"
      ]
     },
     "execution_count": 7,
     "metadata": {
      "tags": []
     },
     "output_type": "execute_result"
    }
   ],
   "source": [
    "y[:10]"
   ]
  },
  {
   "cell_type": "markdown",
   "metadata": {
    "colab_type": "text",
    "id": "VVH2AmI87PWN"
   },
   "source": [
    "#### TODO\n",
    "\n",
    "Display a few other reviews along with their sentiment in the cell(s) below. You can use the following print statment and adjust the index:\n",
    "\n",
    "```\n",
    "    print(' '.join(id_to_word[id] for id in X[0] ))\n",
    "```\n",
    "\n",
    "Record your observations about postive and negative sentiment reviews. What makes reviews positive or negative? Can you find any tricky examples where the true sentiment may be difficult to judge? Please share your results."
   ]
  },
  {
   "cell_type": "code",
   "execution_count": 8,
   "metadata": {
    "colab": {
     "base_uri": "https://localhost:8080/",
     "height": 105
    },
    "colab_type": "code",
    "id": "edh4y9fv7PWO",
    "outputId": "0283d3be-bec7-4f60-8e70-2b163602bafa"
   },
   "outputs": [
    {
     "name": "stdout",
     "output_type": "stream",
     "text": [
      "<START> big hair big <UNK> bad music and a giant safety <UNK> these are the words to best describe this terrible movie i love cheesy horror movies and i've seen hundreds but this had got to be on of the worst ever made the plot is paper thin and ridiculous the acting is an <UNK> the script is completely laughable the best is the end showdown with the cop and how he worked out who the killer is it's just so damn terribly written the clothes are <UNK> and funny in equal <UNK> the hair is big lots of <UNK> <UNK> men wear those cut <UNK> <UNK> that show off their <UNK> <UNK> that men actually wore them and the music is just <UNK> trash that plays over and over again in almost every scene there is trashy music <UNK> and <UNK> taking away bodies and the <UNK> still doesn't close for <UNK> all <UNK> aside this is a truly bad film whose only charm is to look back on the disaster that was the 80's and have a good old laugh at how bad everything was back then\n",
      "<START> this has to be one of the worst films of the <UNK> when my friends i were watching this film being the target audience it was aimed at we just sat watched the first half an hour with our jaws touching the floor at how bad it really was the rest of the time everyone else in the theatre just started talking to each other leaving or generally crying into their popcorn that they actually paid money they had <UNK> working to watch this <UNK> excuse for a film it must have looked like a great idea on paper but on film it looks like no one in the film has a clue what is going on crap acting crap costumes i can't get across how <UNK> this is to watch save yourself an hour a bit of your life\n",
      "<START> the <UNK> <UNK> at storytelling the traditional sort many years after the event i can still see in my <UNK> eye an elderly lady my <UNK> mother <UNK> the battle of <UNK> she makes the characters come alive her passion is that of an eye witness one to the events on the <UNK> <UNK> a mile or so from where she lives br br of course it happened many years before she was born but you wouldn't guess from the way she tells it the same story is told in <UNK> the length and <UNK> of <UNK> as i <UNK> it with a friend one night in <UNK> a local cut in to give his version the discussion continued to closing time br br stories passed down like this become part of our being who doesn't remember the stories our parents told us when we were children they become our invisible world and as we grow older they maybe still serve as inspiration or as an emotional <UNK> fact and fiction blend with <UNK> role models warning stories <UNK> magic and mystery br br my name is <UNK> like my grandfather and his grandfather before him our protagonist introduces himself to us and also introduces the story that <UNK> back through <UNK> it <UNK> stories within stories stories that <UNK> the <UNK> wonder of <UNK> its <UNK> mountains <UNK> in <UNK> the stuff of legend yet <UNK> is <UNK> in reality this is what gives it its special charm it has a rough beauty and <UNK> <UNK> with some of the finest <UNK> singing you will ever hear br br <UNK> <UNK> visits his grandfather in hospital shortly before his death he burns with frustration part of him <UNK> to be in the twenty first century to hang out in <UNK> but he is raised on the western <UNK> among a <UNK> speaking community br br yet there is a deeper conflict within him he <UNK> to know the truth the truth behind his <UNK> ancient stories where does fiction end and he wants to know the truth behind the death of his parents br br he is pulled to make a last <UNK> journey to the <UNK> of one of <UNK> most <UNK> mountains can the truth be told or is it all in stories br br in this story about stories we <UNK> bloody battles <UNK> lovers the <UNK> of old and the sometimes more <UNK> <UNK> of accepted truth in doing so we each connect with <UNK> as he lives the story of his own life br br <UNK> the <UNK> <UNK> is probably the most honest <UNK> and genuinely beautiful film of <UNK> ever made like <UNK> i got slightly annoyed with the <UNK> of hanging stories on more stories but also like <UNK> i <UNK> this once i saw the <UNK> picture ' forget the box office <UNK> of <UNK> and its like you might even <UNK> the <UNK> famous <UNK> of the <UNK> man to see a film that is true to <UNK> this one is probably unique if you maybe <UNK> on it deeply enough you might even re <UNK> the power of storytelling and the age old question of whether there are some <UNK> that cannot be told but only experienced\n",
      "<START> worst mistake of my life br br i picked this movie up at target for 5 because i figured hey it's sandler i can get some cheap laughs i was wrong completely wrong mid way through the film all three of my friends were asleep and i was still suffering worst plot worst script worst movie i have ever seen i wanted to hit my head up against a wall for an hour then i'd stop and you know why because it felt damn good upon <UNK> my head in i stuck that damn movie in the <UNK> and watched it burn and that felt better than anything else i've ever done it took american psycho army of darkness and kill bill just to get over that crap i hate you sandler for actually going through with this and <UNK> a whole day of my life\n"
     ]
    }
   ],
   "source": [
    "print(' '.join(id_to_word[id] for id in X[1] ))\n",
    "print(' '.join(id_to_word[id] for id in X[2] ))\n",
    "print(' '.join(id_to_word[id] for id in X[3] ))\n",
    "print(' '.join(id_to_word[id] for id in X[4] ))"
   ]
  },
  {
   "cell_type": "markdown",
   "metadata": {
    "colab_type": "text",
    "id": "iep2obl_9axM"
   },
   "source": [
    "**Note:** The 3 negative reviews above (1, 2, 4) are fairly easy to identify as they have clear negative language pointing directly at the movie, however the positive review (3) is little harder to identify as the reviewer doesn't directly indicate that she liked the movie, but identify aspects of a good, such as they way the actor makes the characters come to life.\n",
    "Other posible difficulties are when riviewers use irony in reviews, as this is sometimes hard to identify even for humans."
   ]
  },
  {
   "cell_type": "markdown",
   "metadata": {
    "colab_type": "text",
    "id": "UPj0x9tW7PWS"
   },
   "source": [
    "Next we can display the shape of the training dataset. We should have 25,000 training and 25,000 testing examples."
   ]
  },
  {
   "cell_type": "code",
   "execution_count": 9,
   "metadata": {
    "colab": {
     "base_uri": "https://localhost:8080/",
     "height": 119
    },
    "colab_type": "code",
    "id": "Pv4kodYS7PWT",
    "outputId": "250af12c-02b2-4cc3-f5f3-3fb94cfa9006"
   },
   "outputs": [
    {
     "name": "stdout",
     "output_type": "stream",
     "text": [
      "Training data: \n",
      "(25000,)\n",
      "(25000,)\n",
      "Test data: \n",
      "(25000,)\n",
      "(25000,)\n"
     ]
    }
   ],
   "source": [
    "# summarize size\n",
    "print(\"Training data: \")\n",
    "print(X_train.shape)\n",
    "print(y_train.shape)\n",
    "\n",
    "print(\"Test data: \")\n",
    "print(X_test.shape)\n",
    "print(y_test.shape)"
   ]
  },
  {
   "cell_type": "markdown",
   "metadata": {
    "colab_type": "text",
    "id": "ZGPMAeEV7PWX"
   },
   "source": [
    "We can also print the unique class values (encoding)."
   ]
  },
  {
   "cell_type": "code",
   "execution_count": 10,
   "metadata": {
    "colab": {
     "base_uri": "https://localhost:8080/",
     "height": 51
    },
    "colab_type": "code",
    "id": "b6Mb647V7PWY",
    "outputId": "e62fab50-a81c-464f-d629-cc28be7c4440"
   },
   "outputs": [
    {
     "name": "stdout",
     "output_type": "stream",
     "text": [
      "Classes: \n",
      "[0 1]\n"
     ]
    }
   ],
   "source": [
    "# Summarize number of classes\n",
    "print(\"Classes: \")\n",
    "print(numpy.unique(y))"
   ]
  },
  {
   "cell_type": "markdown",
   "metadata": {
    "colab_type": "text",
    "id": "Px8o-qlS7PWb"
   },
   "source": [
    "Next we can get an idea of the total number of unique words in the dataset."
   ]
  },
  {
   "cell_type": "code",
   "execution_count": 11,
   "metadata": {
    "colab": {
     "base_uri": "https://localhost:8080/",
     "height": 51
    },
    "colab_type": "code",
    "id": "jtQMGCZ_7PWi",
    "outputId": "bd747fec-826a-42e8-f8d0-90a7a05c94e5"
   },
   "outputs": [
    {
     "name": "stdout",
     "output_type": "stream",
     "text": [
      "Number of words: \n",
      "4998\n"
     ]
    }
   ],
   "source": [
    "# Summarize number of words\n",
    "print(\"Number of words: \")\n",
    "print(len(numpy.unique(numpy.hstack(X))))"
   ]
  },
  {
   "cell_type": "markdown",
   "metadata": {
    "colab_type": "text",
    "id": "O6yc6OaB7PWo"
   },
   "source": [
    "Finally, we can get an idea of the average review length.\n",
    "\n",
    "Looking at a box and whisker plot for the review lengths in words, we can probably cover most of the mass of the word distribution with a clipped length of 400 to 500 words.\n",
    "\n",
    "In a box plot, the rectangle includes the center 50 percentile (inter quartile range) of the distribution. The red horizontal bar in the box is the median. The whisker (horizonal bars) are by default +/-1.5 the IQR. Dots drawn outside of the whiskers, are considered outliers.\n",
    "\n",
    "https://matplotlib.org/api/_as_gen/matplotlib.pyplot.boxplot.html"
   ]
  },
  {
   "cell_type": "code",
   "execution_count": 12,
   "metadata": {
    "colab": {
     "base_uri": "https://localhost:8080/",
     "height": 381
    },
    "colab_type": "code",
    "id": "3zXkq5Hm7PWr",
    "outputId": "25a14499-5aa4-412a-8437-c934555ba141"
   },
   "outputs": [
    {
     "name": "stdout",
     "output_type": "stream",
     "text": [
      "Review length: \n",
      "Mean 234.76 words (172.911495)\n"
     ]
    },
    {
     "data": {
      "image/png": "[encoded data removed]",
      "text/plain": [
       "<Figure size 576x396 with 1 Axes>"
      ]
     },
     "metadata": {
      "tags": []
     },
     "output_type": "display_data"
    }
   ],
   "source": [
    "# Summarize review length\n",
    "print(\"Review length: \")\n",
    "result = [len(x) for x in X]\n",
    "print(\"Mean %.2f words (%f)\" % (numpy.mean(result), numpy.std(result)))\n",
    "# plot review length\n",
    "pyplot.boxplot(result)\n",
    "pyplot.show()"
   ]
  },
  {
   "cell_type": "markdown",
   "metadata": {
    "colab_type": "text",
    "id": "F0Yv9JDI7PWv"
   },
   "source": [
    "#### Embeddings"
   ]
  },
  {
   "cell_type": "markdown",
   "metadata": {
    "colab_type": "text",
    "id": "prAI_WiP7PWy"
   },
   "source": [
    "Neural networks don’t take raw text as input. Only numeric tensors.\n",
    "\n",
    "Vectorizing text is the process of transforming text into numeric tensors. This can be done in multiple ways:   \n",
    "- Segment text into words, and transform each word into a vector.   \n",
    "- Segment text into characters, and transform each character into a vector.   \n",
    "- Extract n-grams of words or characters, and transform each n-gram into a vector.   \n",
    "- Apply categorical transformation: One-hot encoding or word embedding.\n",
    "\n",
    "\n",
    "*One-hot*   \n",
    "Words are categorical, they have no ordinal relationship. So they can’t just be numerically encoded.\n",
    "For each word:  \n",
    "- Numerically encode each word: {red:0, green:1, blue:2}  \n",
    "- Generate vector of zeros the length of all possible words/categories  \n",
    "- Set the index value for the word in the vector  \n",
    "\n",
    "|red|green|blue|\n",
    "|-----|-----|-----|\n",
    "|1|0|0|\n",
    "|0|1|0|\n",
    "|0|0|1|\n",
    "\n",
    "One-hot encoding results in a sparse vector representation (mostly zeros, hi dimensions). Word embeddings provide dense vector representations. Idea is to “embed” word into a lower-dimensionality space.\n",
    "The dimensions of this space are typically defined by word context, i.e., semantically similar words are embedded near each other.  \n",
    "\n",
    "Popular word-embedding algorithms:  \n",
    "- Point-wise mutual information (PMI)  \n",
    "- Word2Vec: Skip-gram or CBOW  \n",
    "- GLoVE - Global Vectors for Word Representation  \n",
    "\n",
    "*Word2Vec*  \n",
    "CBOW model predict missing word (focus word) using context (surrounding words). Skip gram model predicts context based on the word in focus. Context is a fixed number of words to the left and right of the word in focus. Maximize average log probability of context words co-occurring with focus words.\n",
    "\n",
    "![Word2Vec](word2vec.png)\n",
    "\n",
    "One way to understand the concept of embedding is to think of words being embedded in a higher dimensional vector space.\n",
    "\n",
    "![Vector Space](vector_space.png)\n",
    "\n",
    "This comes from the deck of slides: http://www.slideshare.net/ChristopherMoody3/word2vec-lda-and-introducing-a-new-hybrid-algorithm-lda2vec-57135994\n",
    "\n",
    "For our lab, we will use Keras' `Embedding` layer to automatically build SkipGram embeddings for our text collection.\n",
    "\n",
    "The layer takes arguments that define the mapping including the maximum number of expected words also called the vocabulary size (e.g. the largest integer value that will be seen as an integer). The layer also allows you to specify the dimensionality for each word vector, called the output dimension.\n",
    "\n",
    "We would like to use a word embedding representation for the IMDB dataset.\n",
    "\n",
    "If we are only interested in the 5,000 most frequently used words in the dataset, our vocabulary size will be 5,000. We can choose to use a 32-dimension vector to represent each word. Most word vectors are in the 100 to 200 dimension range for general NLP problems.\n",
    "\n",
    "Embeddings will help us match words by meaning, not just surface form, and help capture word context.\n",
    "\n",
    "The word embedding representation is a true innovation. We will demonstrate what would have been considered world class results in 2011 with a relatively simple neural network.\n",
    "\n",
    "The first layer of our model will be an word embedding layer created using the Embedding class as follows:\n",
    "\n",
    "`Embedding(5000, 32, input_length=500)`\n",
    "\n",
    "The output of this first layer would be a matrix with the size 32×500 for a given review training or test pattern in integer format."
   ]
  },
  {
   "cell_type": "markdown",
   "metadata": {
    "colab_type": "text",
    "id": "oDhydjZA7PWz"
   },
   "source": [
    "#### Truncation and padding input examples\n",
    "\n",
    "We can use the Keras utility `sequence.pad_sequences()` to truncate or pad the dataset to a length of 500 for each observation using the function. Neural network models expect input examples to be the same dimension\n"
   ]
  },
  {
   "cell_type": "markdown",
   "metadata": {
    "colab_type": "text",
    "id": "rlc2VUfv7PW1"
   },
   "source": [
    "#### Keras\n",
    "The core data structure of Keras is a model, a way to organize layers. The simplest type of model is the  Sequential model, a linear stack of layers. For more complex architectures, you should use the Keras functional API, which allows you to build arbitrary graphs of layers.\n",
    "\n",
    "Here is the Sequential model:   \n",
    "```\n",
    "from keras.models import Sequential\n",
    "model = Sequential()\n",
    "```\n",
    "\n",
    "Stacking layers by using .add():  \n",
    "```\n",
    "from keras.layers import Dense\n",
    "model.add(Dense(units=64, activation='relu', input_dim=100))\n",
    "model.add(Dense(units=10, activation='softmax'))\n",
    "```\n",
    "\n",
    "Once your model looks good, configure its learning process with .compile():  \n",
    "```\n",
    "model.compile(loss='categorical_crossentropy',\n",
    "              optimizer='sgd',\n",
    "              metrics=['accuracy'])\n",
    "```\n",
    "                            \n",
    "If you need to, you can further configure your optimizer.   \n",
    "```\n",
    "model.compile(loss=keras.losses.categorical_crossentropy,\n",
    "              optimizer=keras.optimizers.SGD(lr=0.01, momentum=0.9, nesterov=True))\n",
    "```\n",
    "\n",
    "You can iterate on your training data in batches:\n",
    "```\n",
    "model.fit(x_train, y_train, epochs=5, batch_size=32)\n",
    "```\n",
    "\n",
    "More here:   \n",
    "\n",
    "https://keras.io/  "
   ]
  },
  {
   "cell_type": "markdown",
   "metadata": {
    "colab_type": "text",
    "id": "tzAz-VLe7PW2"
   },
   "source": [
    "###  Simple Multi-Layer Perceptron Model \n",
    "\n",
    "We can start off by developing a simple multi-layer perceptron (MLP) model with a single hidden layer. MLP's are also called a fully-connected network (FCN). They're \"traditional\" neural networks.\n",
    "\n",
    "Let’s start off by importing the classes and functions required for this model and initializing the random number generator to a constant value to ensure we can easily reproduce the results."
   ]
  },
  {
   "cell_type": "code",
   "execution_count": 0,
   "metadata": {
    "colab": {},
    "colab_type": "code",
    "id": "dgg8kidO7PW3"
   },
   "outputs": [],
   "source": [
    "# MLP for the IMDB problem\n",
    "import numpy\n",
    "from keras.datasets import imdb\n",
    "from keras.models import Sequential\n",
    "from keras.layers import Dense\n",
    "from keras.layers import Flatten\n",
    "from keras.layers.embeddings import Embedding\n",
    "from keras.preprocessing import sequence\n",
    "# fix random seed for reproducibility\n",
    "seed = 42\n",
    "numpy.random.seed(seed)"
   ]
  },
  {
   "cell_type": "markdown",
   "metadata": {
    "colab_type": "text",
    "id": "cuzgmTtO7PW7"
   },
   "source": [
    "We will limit our vocabulary to the 5,000 most common terms."
   ]
  },
  {
   "cell_type": "code",
   "execution_count": 0,
   "metadata": {
    "colab": {},
    "colab_type": "code",
    "id": "Nj9m62WS7PW8"
   },
   "outputs": [],
   "source": [
    "# load the dataset but only keep the top n words, zero the rest\n",
    "top_words = 5000\n",
    "(X_train, y_train), (X_test, y_test) = imdb.load_data(num_words=top_words)"
   ]
  },
  {
   "cell_type": "markdown",
   "metadata": {
    "colab_type": "text",
    "id": "n6I7pfls7PXC"
   },
   "source": [
    "We will limit each review length to 500 words. Longer reviews will be truncated. Shorter reviews will use zero-padding."
   ]
  },
  {
   "cell_type": "code",
   "execution_count": 0,
   "metadata": {
    "colab": {},
    "colab_type": "code",
    "id": "MKPRB7Nd7PXD"
   },
   "outputs": [],
   "source": [
    "input_length = 500\n",
    "X_train = sequence.pad_sequences(X_train, maxlen=input_length)\n",
    "X_test = sequence.pad_sequences(X_test, maxlen=input_length)"
   ]
  },
  {
   "cell_type": "markdown",
   "metadata": {
    "colab_type": "text",
    "id": "BzANVn3t7PXG"
   },
   "source": [
    "We will start with an embedding size of 32.\n",
    "\n",
    "The top_words, max_words, and embedding_size are considered `hyperparameters` which require tuning by conducting several iterations of training."
   ]
  },
  {
   "cell_type": "code",
   "execution_count": 0,
   "metadata": {
    "colab": {},
    "colab_type": "code",
    "id": "wXt-zDjp7PXH"
   },
   "outputs": [],
   "source": [
    "embedding_size = 32"
   ]
  },
  {
   "cell_type": "markdown",
   "metadata": {
    "colab_type": "text",
    "id": "JwI5_ouL7PXK"
   },
   "source": [
    "The output of the first embedding layer will be a 32×500 sized tensor.\n",
    "\n",
    "We will flatten the embedding layer's output to one dimension, then use one dense hidden layer of 250 units with a rectified linear unit (ReLU) activation function. \n",
    "\n",
    "ReLU is a common nonlinearity, and is defined by a simple formula:\n",
    "$$ReLU(z) = max(0, z)$$\n",
    "Here is its graphical representation (and next to another activation, sigmoid, for comparison):\n",
    "![](https://cdn-images-1.medium.com/max/1600/1*XxxiA0jJvPrHEJHD4z893g.png)\n",
    "\n",
    "The output layer has one neuron and we will use a sigmoid activation function to output values of 0 and 1 as predictions. If we had to classify more than two values, we would use softmax.\n",
    "\n",
    "The model uses binary cross-entropy loss:\n",
    "\n",
    "$$loss = -[y_t * log_2(y_p) + (1 - y_t)*log_2(1-y_p)]$$\n",
    "\n",
    "and is optimized using the efficient gradient descent based ADAM optimization procedure."
   ]
  },
  {
   "cell_type": "code",
   "execution_count": 17,
   "metadata": {
    "colab": {
     "base_uri": "https://localhost:8080/",
     "height": 340
    },
    "colab_type": "code",
    "id": "L8XiWGGM7PXM",
    "outputId": "a3e57549-bc4e-4352-e1ca-5ba41a95221d"
   },
   "outputs": [
    {
     "name": "stdout",
     "output_type": "stream",
     "text": [
      "WARNING:tensorflow:From /usr/local/lib/python2.7/dist-packages/tensorflow/python/framework/op_def_library.py:263: colocate_with (from tensorflow.python.framework.ops) is deprecated and will be removed in a future version.\n",
      "Instructions for updating:\n",
      "Colocations handled automatically by placer.\n",
      "_________________________________________________________________\n",
      "Layer (type)                 Output Shape              Param #   \n",
      "=================================================================\n",
      "embedding_1 (Embedding)      (None, 500, 32)           160000    \n",
      "_________________________________________________________________\n",
      "flatten_1 (Flatten)          (None, 16000)             0         \n",
      "_________________________________________________________________\n",
      "dense_1 (Dense)              (None, 250)               4000250   \n",
      "_________________________________________________________________\n",
      "dense_2 (Dense)              (None, 1)                 251       \n",
      "=================================================================\n",
      "Total params: 4,160,501\n",
      "Trainable params: 4,160,501\n",
      "Non-trainable params: 0\n",
      "_________________________________________________________________\n",
      "None\n"
     ]
    }
   ],
   "source": [
    "# create the model\n",
    "model = Sequential()\n",
    "model.add(Embedding(top_words, embedding_size, input_length=input_length))\n",
    "model.add(Flatten())\n",
    "model.add(Dense(250, activation='relu'))\n",
    "model.add(Dense(1, activation='sigmoid'))\n",
    "model.compile(loss='binary_crossentropy', optimizer='adam', metrics=['accuracy'])\n",
    "print(model.summary())"
   ]
  },
  {
   "cell_type": "markdown",
   "metadata": {
    "colab_type": "text",
    "id": "OqSMULqJ7PXQ"
   },
   "source": [
    "In addition to printing out the model summary, there are other ways to visualize our architecture.\n",
    "\n",
    "Yaml, which stands for \"YAML ain't markup language.\" Seriously. That's what it stands for. YAML will let us read what we've built. It can also be used to automatically define a network.\n"
   ]
  },
  {
   "cell_type": "code",
   "execution_count": 18,
   "metadata": {
    "colab": {
     "base_uri": "https://localhost:8080/",
     "height": 1054
    },
    "colab_type": "code",
    "id": "ikWOPARB7PXS",
    "outputId": "52b75ed7-017c-491c-89a2-750525b86479"
   },
   "outputs": [
    {
     "name": "stdout",
     "output_type": "stream",
     "text": [
      "backend: !!python/unicode 'tensorflow'\n",
      "class_name: Sequential\n",
      "config:\n",
      "  layers:\n",
      "  - class_name: Embedding\n",
      "    config:\n",
      "      activity_regularizer: null\n",
      "      batch_input_shape: !!python/tuple [null, 500]\n",
      "      dtype: float32\n",
      "      embeddings_constraint: null\n",
      "      embeddings_initializer:\n",
      "        class_name: RandomUniform\n",
      "        config: {maxval: 0.05, minval: -0.05, seed: null}\n",
      "      embeddings_regularizer: null\n",
      "      input_dim: 5000\n",
      "      input_length: 500\n",
      "      mask_zero: false\n",
      "      name: embedding_1\n",
      "      output_dim: 32\n",
      "      trainable: true\n",
      "  - class_name: Flatten\n",
      "    config: {data_format: channels_last, name: flatten_1, trainable: true}\n",
      "  - class_name: Dense\n",
      "    config:\n",
      "      activation: relu\n",
      "      activity_regularizer: null\n",
      "      bias_constraint: null\n",
      "      bias_initializer:\n",
      "        class_name: Zeros\n",
      "        config: {}\n",
      "      bias_regularizer: null\n",
      "      kernel_constraint: null\n",
      "      kernel_initializer:\n",
      "        class_name: VarianceScaling\n",
      "        config: {distribution: uniform, mode: fan_avg, scale: 1.0, seed: null}\n",
      "      kernel_regularizer: null\n",
      "      name: dense_1\n",
      "      trainable: true\n",
      "      units: 250\n",
      "      use_bias: true\n",
      "  - class_name: Dense\n",
      "    config:\n",
      "      activation: sigmoid\n",
      "      activity_regularizer: null\n",
      "      bias_constraint: null\n",
      "      bias_initializer:\n",
      "        class_name: Zeros\n",
      "        config: {}\n",
      "      bias_regularizer: null\n",
      "      kernel_constraint: null\n",
      "      kernel_initializer:\n",
      "        class_name: VarianceScaling\n",
      "        config: {distribution: uniform, mode: fan_avg, scale: 1.0, seed: null}\n",
      "      kernel_regularizer: null\n",
      "      name: dense_2\n",
      "      trainable: true\n",
      "      units: 1\n",
      "      use_bias: true\n",
      "  name: sequential_1\n",
      "keras_version: 2.2.4\n",
      "\n"
     ]
    }
   ],
   "source": [
    "print(model.to_yaml())"
   ]
  },
  {
   "cell_type": "markdown",
   "metadata": {
    "colab_type": "text",
    "id": "xFOHw0Vm7PXV"
   },
   "source": [
    "We can also generate a graphic. Note: Graphviz and pydot need to be installed.\n",
    "\n",
    "$ pip install pydot"
   ]
  },
  {
   "cell_type": "code",
   "execution_count": 19,
   "metadata": {
    "colab": {
     "base_uri": "https://localhost:8080/",
     "height": 524
    },
    "colab_type": "code",
    "id": "CulaOOYa7PXX",
    "outputId": "e1740151-eab7-439f-98d9-94b2751f2c4b"
   },
   "outputs": [
    {
     "data": {
      "image/svg+xml": [
       "<svg height=\"377pt\" viewBox=\"0.00 0.00 347.00 377.00\" width=\"347pt\" xmlns=\"http://www.w3.org/2000/svg\" xmlns:xlink=\"http://www.w3.org/1999/xlink\">\n",
       "<g class=\"graph\" id=\"graph0\" transform=\"scale(1 1) rotate(0) translate(4 373)\">\n",
       "<title>G</title>\n",
       "<polygon fill=\"#ffffff\" points=\"-4,4 -4,-373 343,-373 343,4 -4,4\" stroke=\"transparent\"/>\n",
       "<!-- 140417220321616 -->\n",
       "<g class=\"node\" id=\"node1\">\n",
       "<title>140417220321616</title>\n",
       "<polygon fill=\"none\" points=\"0,-249.5 0,-295.5 339,-295.5 339,-249.5 0,-249.5\" stroke=\"#000000\"/>\n",
       "<text fill=\"#000000\" font-family=\"Times,serif\" font-size=\"14.00\" text-anchor=\"middle\" x=\"85.5\" y=\"-268.8\">embedding_1: Embedding</text>\n",
       "<polyline fill=\"none\" points=\"171,-249.5 171,-295.5 \" stroke=\"#000000\"/>\n",
       "<text fill=\"#000000\" font-family=\"Times,serif\" font-size=\"14.00\" text-anchor=\"middle\" x=\"200\" y=\"-280.3\">input:</text>\n",
       "<polyline fill=\"none\" points=\"171,-272.5 229,-272.5 \" stroke=\"#000000\"/>\n",
       "<text fill=\"#000000\" font-family=\"Times,serif\" font-size=\"14.00\" text-anchor=\"middle\" x=\"200\" y=\"-257.3\">output:</text>\n",
       "<polyline fill=\"none\" points=\"229,-249.5 229,-295.5 \" stroke=\"#000000\"/>\n",
       "<text fill=\"#000000\" font-family=\"Times,serif\" font-size=\"14.00\" text-anchor=\"middle\" x=\"284\" y=\"-280.3\">(None, 500)</text>\n",
       "<polyline fill=\"none\" points=\"229,-272.5 339,-272.5 \" stroke=\"#000000\"/>\n",
       "<text fill=\"#000000\" font-family=\"Times,serif\" font-size=\"14.00\" text-anchor=\"middle\" x=\"284\" y=\"-257.3\">(None, 500, 32)</text>\n",
       "</g>\n",
       "<!-- 140417213336208 -->\n",
       "<g class=\"node\" id=\"node2\">\n",
       "<title>140417213336208</title>\n",
       "<polygon fill=\"none\" points=\"29,-166.5 29,-212.5 310,-212.5 310,-166.5 29,-166.5\" stroke=\"#000000\"/>\n",
       "<text fill=\"#000000\" font-family=\"Times,serif\" font-size=\"14.00\" text-anchor=\"middle\" x=\"85.5\" y=\"-185.8\">flatten_1: Flatten</text>\n",
       "<polyline fill=\"none\" points=\"142,-166.5 142,-212.5 \" stroke=\"#000000\"/>\n",
       "<text fill=\"#000000\" font-family=\"Times,serif\" font-size=\"14.00\" text-anchor=\"middle\" x=\"171\" y=\"-197.3\">input:</text>\n",
       "<polyline fill=\"none\" points=\"142,-189.5 200,-189.5 \" stroke=\"#000000\"/>\n",
       "<text fill=\"#000000\" font-family=\"Times,serif\" font-size=\"14.00\" text-anchor=\"middle\" x=\"171\" y=\"-174.3\">output:</text>\n",
       "<polyline fill=\"none\" points=\"200,-166.5 200,-212.5 \" stroke=\"#000000\"/>\n",
       "<text fill=\"#000000\" font-family=\"Times,serif\" font-size=\"14.00\" text-anchor=\"middle\" x=\"255\" y=\"-197.3\">(None, 500, 32)</text>\n",
       "<polyline fill=\"none\" points=\"200,-189.5 310,-189.5 \" stroke=\"#000000\"/>\n",
       "<text fill=\"#000000\" font-family=\"Times,serif\" font-size=\"14.00\" text-anchor=\"middle\" x=\"255\" y=\"-174.3\">(None, 16000)</text>\n",
       "</g>\n",
       "<!-- 140417220321616&#45;&gt;140417213336208 -->\n",
       "<g class=\"edge\" id=\"edge2\">\n",
       "<title>140417220321616-&gt;140417213336208</title>\n",
       "<path d=\"M169.5,-249.3799C169.5,-241.1745 169.5,-231.7679 169.5,-222.8786\" fill=\"none\" stroke=\"#000000\"/>\n",
       "<polygon fill=\"#000000\" points=\"173.0001,-222.784 169.5,-212.784 166.0001,-222.784 173.0001,-222.784\" stroke=\"#000000\"/>\n",
       "</g>\n",
       "<!-- 140417207951568 -->\n",
       "<g class=\"node\" id=\"node3\">\n",
       "<title>140417207951568</title>\n",
       "<polygon fill=\"none\" points=\"36,-83.5 36,-129.5 303,-129.5 303,-83.5 36,-83.5\" stroke=\"#000000\"/>\n",
       "<text fill=\"#000000\" font-family=\"Times,serif\" font-size=\"14.00\" text-anchor=\"middle\" x=\"89.5\" y=\"-102.8\">dense_1: Dense</text>\n",
       "<polyline fill=\"none\" points=\"143,-83.5 143,-129.5 \" stroke=\"#000000\"/>\n",
       "<text fill=\"#000000\" font-family=\"Times,serif\" font-size=\"14.00\" text-anchor=\"middle\" x=\"172\" y=\"-114.3\">input:</text>\n",
       "<polyline fill=\"none\" points=\"143,-106.5 201,-106.5 \" stroke=\"#000000\"/>\n",
       "<text fill=\"#000000\" font-family=\"Times,serif\" font-size=\"14.00\" text-anchor=\"middle\" x=\"172\" y=\"-91.3\">output:</text>\n",
       "<polyline fill=\"none\" points=\"201,-83.5 201,-129.5 \" stroke=\"#000000\"/>\n",
       "<text fill=\"#000000\" font-family=\"Times,serif\" font-size=\"14.00\" text-anchor=\"middle\" x=\"252\" y=\"-114.3\">(None, 16000)</text>\n",
       "<polyline fill=\"none\" points=\"201,-106.5 303,-106.5 \" stroke=\"#000000\"/>\n",
       "<text fill=\"#000000\" font-family=\"Times,serif\" font-size=\"14.00\" text-anchor=\"middle\" x=\"252\" y=\"-91.3\">(None, 250)</text>\n",
       "</g>\n",
       "<!-- 140417213336208&#45;&gt;140417207951568 -->\n",
       "<g class=\"edge\" id=\"edge3\">\n",
       "<title>140417213336208-&gt;140417207951568</title>\n",
       "<path d=\"M169.5,-166.3799C169.5,-158.1745 169.5,-148.7679 169.5,-139.8786\" fill=\"none\" stroke=\"#000000\"/>\n",
       "<polygon fill=\"#000000\" points=\"173.0001,-139.784 169.5,-129.784 166.0001,-139.784 173.0001,-139.784\" stroke=\"#000000\"/>\n",
       "</g>\n",
       "<!-- 140417207953296 -->\n",
       "<g class=\"node\" id=\"node4\">\n",
       "<title>140417207953296</title>\n",
       "<polygon fill=\"none\" points=\"43.5,-.5 43.5,-46.5 295.5,-46.5 295.5,-.5 43.5,-.5\" stroke=\"#000000\"/>\n",
       "<text fill=\"#000000\" font-family=\"Times,serif\" font-size=\"14.00\" text-anchor=\"middle\" x=\"97\" y=\"-19.8\">dense_2: Dense</text>\n",
       "<polyline fill=\"none\" points=\"150.5,-.5 150.5,-46.5 \" stroke=\"#000000\"/>\n",
       "<text fill=\"#000000\" font-family=\"Times,serif\" font-size=\"14.00\" text-anchor=\"middle\" x=\"179.5\" y=\"-31.3\">input:</text>\n",
       "<polyline fill=\"none\" points=\"150.5,-23.5 208.5,-23.5 \" stroke=\"#000000\"/>\n",
       "<text fill=\"#000000\" font-family=\"Times,serif\" font-size=\"14.00\" text-anchor=\"middle\" x=\"179.5\" y=\"-8.3\">output:</text>\n",
       "<polyline fill=\"none\" points=\"208.5,-.5 208.5,-46.5 \" stroke=\"#000000\"/>\n",
       "<text fill=\"#000000\" font-family=\"Times,serif\" font-size=\"14.00\" text-anchor=\"middle\" x=\"252\" y=\"-31.3\">(None, 250)</text>\n",
       "<polyline fill=\"none\" points=\"208.5,-23.5 295.5,-23.5 \" stroke=\"#000000\"/>\n",
       "<text fill=\"#000000\" font-family=\"Times,serif\" font-size=\"14.00\" text-anchor=\"middle\" x=\"252\" y=\"-8.3\">(None, 1)</text>\n",
       "</g>\n",
       "<!-- 140417207951568&#45;&gt;140417207953296 -->\n",
       "<g class=\"edge\" id=\"edge4\">\n",
       "<title>140417207951568-&gt;140417207953296</title>\n",
       "<path d=\"M169.5,-83.3799C169.5,-75.1745 169.5,-65.7679 169.5,-56.8786\" fill=\"none\" stroke=\"#000000\"/>\n",
       "<polygon fill=\"#000000\" points=\"173.0001,-56.784 169.5,-46.784 166.0001,-56.784 173.0001,-56.784\" stroke=\"#000000\"/>\n",
       "</g>\n",
       "<!-- 140417220321808 -->\n",
       "<g class=\"node\" id=\"node5\">\n",
       "<title>140417220321808</title>\n",
       "<polygon fill=\"none\" points=\"105,-332.5 105,-368.5 234,-368.5 234,-332.5 105,-332.5\" stroke=\"#000000\"/>\n",
       "<text fill=\"#000000\" font-family=\"Times,serif\" font-size=\"14.00\" text-anchor=\"middle\" x=\"169.5\" y=\"-346.8\">140417220321808</text>\n",
       "</g>\n",
       "<!-- 140417220321808&#45;&gt;140417220321616 -->\n",
       "<g class=\"edge\" id=\"edge1\">\n",
       "<title>140417220321808-&gt;140417220321616</title>\n",
       "<path d=\"M169.5,-332.4092C169.5,-324.4308 169.5,-314.795 169.5,-305.606\" fill=\"none\" stroke=\"#000000\"/>\n",
       "<polygon fill=\"#000000\" points=\"173.0001,-305.5333 169.5,-295.5333 166.0001,-305.5334 173.0001,-305.5333\" stroke=\"#000000\"/>\n",
       "</g>\n",
       "</g>\n",
       "</svg>"
      ],
      "text/plain": [
       "<IPython.core.display.SVG object>"
      ]
     },
     "execution_count": 19,
     "metadata": {
      "tags": []
     },
     "output_type": "execute_result"
    }
   ],
   "source": [
    "from keras.utils import plot_model\n",
    "from IPython.display import SVG\n",
    "from keras.utils.vis_utils import model_to_dot\n",
    "\n",
    "plot_model(model, to_file='model.png', show_shapes=True)\n",
    "SVG(model_to_dot(model, show_shapes=True).create(prog='dot', format='svg'))"
   ]
  },
  {
   "cell_type": "markdown",
   "metadata": {
    "colab_type": "text",
    "id": "oamZsK7X7PXa"
   },
   "source": [
    "**TODO:**   \n",
    "\n",
    "Take a moment and try to understand the model you just built and the summary. Note the number of parameters in the model. This relates to the number of weights that have to be learned using back propagation. The larger the number of parameters, the more complex the model. The more complex the model, the longer the training time and a need for larger training sets.\n"
   ]
  },
  {
   "cell_type": "markdown",
   "metadata": {
    "colab_type": "text",
    "id": "GBCnD1_j7PXb"
   },
   "source": [
    "Finally, we can fit the model. We will hold out 10% of the training data for validation. Validation data is used to \"test\" the model during training to see if our loss decreases and our acccurcy decreases. The model can be re-trained before deployment with all available data.\n",
    "\n",
    "We've specified 3 epochs, or number of iterations across the training data.\n",
    "\n",
    "Batch size defines how many examples we show to the network before updating weights using back propagation.\n",
    "\n",
    "We will perform final evaluation using the held-out test results."
   ]
  },
  {
   "cell_type": "code",
   "execution_count": 20,
   "metadata": {
    "colab": {
     "base_uri": "https://localhost:8080/",
     "height": 204
    },
    "colab_type": "code",
    "id": "JD9IpsGc7PXd",
    "outputId": "612c2fbc-595c-497b-ab8a-b829b8eb12fb"
   },
   "outputs": [
    {
     "name": "stdout",
     "output_type": "stream",
     "text": [
      "WARNING:tensorflow:From /usr/local/lib/python2.7/dist-packages/tensorflow/python/ops/math_ops.py:3066: to_int32 (from tensorflow.python.ops.math_ops) is deprecated and will be removed in a future version.\n",
      "Instructions for updating:\n",
      "Use tf.cast instead.\n",
      "Train on 22500 samples, validate on 2500 samples\n",
      "Epoch 1/3\n",
      "22500/22500 [==============================] - 5s 205us/step - loss: 0.6449 - acc: 0.5891 - val_loss: 0.3865 - val_acc: 0.8336\n",
      "Epoch 2/3\n",
      "22500/22500 [==============================] - 2s 96us/step - loss: 0.2561 - acc: 0.8946 - val_loss: 0.2912 - val_acc: 0.8852\n",
      "Epoch 3/3\n",
      "22500/22500 [==============================] - 2s 96us/step - loss: 0.0983 - acc: 0.9676 - val_loss: 0.3749 - val_acc: 0.8680\n",
      "Accuracy: 86.37%\n"
     ]
    }
   ],
   "source": [
    "# Fit the model\n",
    "epochs=3\n",
    "batch_size=128\n",
    "\n",
    "history = model.fit(X_train, y_train,\n",
    "                    batch_size=batch_size,\n",
    "                    epochs=epochs,\n",
    "                    verbose=1,\n",
    "                    validation_split=0.1)\n",
    "\n",
    "# Final evaluation of the model\n",
    "scores = model.evaluate(X_test, y_test, verbose=0)\n",
    "print(\"Accuracy: %.2f%%\" % (scores[1]*100))"
   ]
  },
  {
   "cell_type": "markdown",
   "metadata": {
    "colab_type": "text",
    "id": "-zgyhS0C7PXg"
   },
   "source": [
    "Running this example fits the model and summarizes the estimated performance. We can see that a realtively simple model achieves a score of nearly ~86% which is in the neighborhood of the original paper, with very little effort. And good engineering!"
   ]
  },
  {
   "cell_type": "markdown",
   "metadata": {
    "colab_type": "text",
    "id": "JCeR7Qvc7PXi"
   },
   "source": [
    "We can plot the accuracy and training loss using the history from training the model. Since we only used 3 training epochs, these graphs will not show much. 10's or 100's of epochs is commong in more complex models.\n",
    "\n"
   ]
  },
  {
   "cell_type": "code",
   "execution_count": 21,
   "metadata": {
    "colab": {
     "base_uri": "https://localhost:8080/",
     "height": 299
    },
    "colab_type": "code",
    "id": "dvIR0g197PXj",
    "outputId": "aa313bf4-4196-44ce-d621-d702519c509b"
   },
   "outputs": [
    {
     "name": "stdout",
     "output_type": "stream",
     "text": [
      "['acc', 'loss', 'val_acc', 'val_loss']\n"
     ]
    },
    {
     "data": {
      "text/plain": [
       "[<matplotlib.lines.Line2D at 0x7fb56d1da150>]"
      ]
     },
     "execution_count": 21,
     "metadata": {
      "tags": []
     },
     "output_type": "execute_result"
    },
    {
     "data": {
      "image/png": "[encoded data removed]",
      "text/plain": [
       "<Figure size 432x288 with 1 Axes>"
      ]
     },
     "metadata": {
      "tags": []
     },
     "output_type": "display_data"
    }
   ],
   "source": [
    "import matplotlib.pyplot as plt\n",
    "%matplotlib inline\n",
    "\n",
    "# list all data in history\n",
    "print(history.history.keys())\n",
    "\n",
    "# summarize history for accuracy\n",
    "plt.plot(history.history['acc'])\n"
   ]
  },
  {
   "cell_type": "markdown",
   "metadata": {
    "colab_type": "text",
    "id": "Ic8sd9am7PXm"
   },
   "source": [
    "Plot model loss"
   ]
  },
  {
   "cell_type": "code",
   "execution_count": 22,
   "metadata": {
    "colab": {
     "base_uri": "https://localhost:8080/",
     "height": 311
    },
    "colab_type": "code",
    "id": "VxA9zrez7PXn",
    "outputId": "856ddafa-d444-49cd-e7f1-73ec3c79e001"
   },
   "outputs": [
    {
     "data": {
      "text/plain": [
       "Text(0.5,0,'epoch')"
      ]
     },
     "execution_count": 22,
     "metadata": {
      "tags": []
     },
     "output_type": "execute_result"
    },
    {
     "data": {
      "image/png": "[encoded data removed]",
      "text/plain": [
       "<Figure size 432x288 with 1 Axes>"
      ]
     },
     "metadata": {
      "tags": []
     },
     "output_type": "display_data"
    }
   ],
   "source": [
    "# summarize history for loss\n",
    "plt.plot(history.history['loss'])\n",
    "plt.title('model loss')\n",
    "plt.ylabel('loss')\n",
    "plt.xlabel('epoch')"
   ]
  },
  {
   "cell_type": "markdown",
   "metadata": {
    "colab_type": "text",
    "id": "Leh7bPhC7PXs"
   },
   "source": [
    "#### TODO:\n",
    "\n",
    "Generate plots of validation accuracy and loss. Are we underfitting or overfitting?"
   ]
  },
  {
   "cell_type": "code",
   "execution_count": 23,
   "metadata": {
    "colab": {
     "base_uri": "https://localhost:8080/",
     "height": 311
    },
    "colab_type": "code",
    "id": "drsp3PNi7PXt",
    "outputId": "3cc5c40f-a2a7-4023-f942-f025eb674146"
   },
   "outputs": [
    {
     "data": {
      "text/plain": [
       "Text(0.5,0,'epoch')"
      ]
     },
     "execution_count": 23,
     "metadata": {
      "tags": []
     },
     "output_type": "execute_result"
    },
    {
     "data": {
      "image/png": "[encoded data removed]",
      "text/plain": [
       "<Figure size 432x288 with 1 Axes>"
      ]
     },
     "metadata": {
      "tags": []
     },
     "output_type": "display_data"
    }
   ],
   "source": [
    "# Validation accuracy plot\n",
    "plt.plot(history.history['val_acc'])\n",
    "plt.title('validation accuracy')\n",
    "plt.ylabel('acc')\n",
    "plt.xlabel('epoch')"
   ]
  },
  {
   "cell_type": "code",
   "execution_count": 24,
   "metadata": {
    "colab": {
     "base_uri": "https://localhost:8080/",
     "height": 311
    },
    "colab_type": "code",
    "id": "xdoqWTMKBWKw",
    "outputId": "2a6b86c6-1dd2-47f5-e50a-d8deafe56bf4"
   },
   "outputs": [
    {
     "data": {
      "text/plain": [
       "Text(0.5,0,'epoch')"
      ]
     },
     "execution_count": 24,
     "metadata": {
      "tags": []
     },
     "output_type": "execute_result"
    },
    {
     "data": {
      "image/png": "[encoded data removed]",
      "text/plain": [
       "<Figure size 432x288 with 1 Axes>"
      ]
     },
     "metadata": {
      "tags": []
     },
     "output_type": "display_data"
    }
   ],
   "source": [
    "# Validation loss plot\n",
    "plt.plot(history.history['val_loss'])\n",
    "plt.title('validation loss')\n",
    "plt.ylabel('loss')\n",
    "plt.xlabel('epoch')"
   ]
  },
  {
   "cell_type": "markdown",
   "metadata": {
    "colab_type": "text",
    "id": "XzT22_4NLzNx"
   },
   "source": [
    "**NOTE:**  The model starts to overfit after 1 epoch"
   ]
  },
  {
   "cell_type": "markdown",
   "metadata": {
    "colab_type": "text",
    "id": "ON-gLzFx7PXx"
   },
   "source": [
    "#### TODO:\n",
    "\n",
    "I’m sure we can do better. Take a few minutes and experiment with the model and see if you can improve its performance on test accuracy.\n",
    "\n",
    "You can try adusting any of the hyperparameters: epochs, batch_size, embedding_size, input_length, top_words, the number of nodes (currently 250) in the dense layer, adding another hidden layer, or adding dropout or regularization.\n",
    "\n",
    "```\n",
    "from keras import regularizers\n",
    "model.add(Dense(64, input_dim=64,\n",
    "                kernel_regularizer=regularizers.l2(0.01),\n",
    "                activity_regularizer=regularizers.l1(0.01)))\n",
    "```\n",
    "\n",
    "https://keras.io/regularizers/\n",
    "\n",
    "https://keras.io/layers/core/\n",
    "\n",
    "https://chrisalbon.com/deep_learning/keras/adding_dropout/\n",
    "\n",
    "```\n",
    "model.add(layers.Dropout(0.2))\n",
    "```\n",
    "\n",
    "Goldstar to the best model. Report your results below."
   ]
  },
  {
   "cell_type": "code",
   "execution_count": 26,
   "metadata": {
    "colab": {
     "base_uri": "https://localhost:8080/",
     "height": 758
    },
    "colab_type": "code",
    "id": "TEhYaxQ7_g1n",
    "outputId": "0595ce59-aabf-4659-a191-bf3785c9cf70"
   },
   "outputs": [
    {
     "name": "stdout",
     "output_type": "stream",
     "text": [
      "WARNING:tensorflow:From /usr/local/lib/python2.7/dist-packages/keras/backend/tensorflow_backend.py:3445: calling dropout (from tensorflow.python.ops.nn_ops) with keep_prob is deprecated and will be removed in a future version.\n",
      "Instructions for updating:\n",
      "Please use `rate` instead of `keep_prob`. Rate should be set to `rate = 1 - keep_prob`.\n",
      "Train on 22500 samples, validate on 2500 samples\n",
      "Epoch 1/3\n",
      "22500/22500 [==============================] - 3s 123us/step - loss: 0.5723 - acc: 0.6718 - val_loss: 0.3261 - val_acc: 0.8648\n",
      "Epoch 2/3\n",
      "22500/22500 [==============================] - 2s 97us/step - loss: 0.2170 - acc: 0.9140 - val_loss: 0.3048 - val_acc: 0.8832\n",
      "Epoch 3/3\n",
      "22500/22500 [==============================] - 2s 97us/step - loss: 0.0647 - acc: 0.9798 - val_loss: 0.3812 - val_acc: 0.8692\n",
      "Accuracy: 86.13%\n"
     ]
    },
    {
     "data": {
      "image/png": "[encoded data removed]",
      "text/plain": [
       "<Figure size 432x288 with 1 Axes>"
      ]
     },
     "metadata": {
      "tags": []
     },
     "output_type": "display_data"
    },
    {
     "data": {
      "image/png": "[encoded data removed]",
      "text/plain": [
       "<Figure size 432x288 with 1 Axes>"
      ]
     },
     "metadata": {
      "tags": []
     },
     "output_type": "display_data"
    }
   ],
   "source": [
    "from keras import layers\n",
    "from keras import models\n",
    "from keras import optimizers\n",
    "\n",
    "#Build Model\n",
    "model = Sequential()\n",
    "model.add(Embedding(top_words, embedding_size, input_length=input_length))\n",
    "model.add(Flatten())\n",
    "model.add(Dense(250, activation='relu'))\n",
    "model.add(layers.Dropout(0.2))\n",
    "model.add(Dense(1, activation='sigmoid'))\n",
    "model.compile(loss='binary_crossentropy', optimizer='adam', metrics=['accuracy'])\n",
    "\n",
    "# Fit the model\n",
    "epochs=3\n",
    "batch_size=128\n",
    "\n",
    "history = model.fit(X_train, y_train,\n",
    "                    batch_size=batch_size,\n",
    "                    epochs=epochs,\n",
    "                    verbose=1,\n",
    "                    validation_split=0.1)\n",
    "\n",
    "# Final evaluation of the model\n",
    "scores = model.evaluate(X_test, y_test, verbose=0)\n",
    "print(\"Accuracy: %.2f%%\" % (scores[1]*100))\n",
    "\n",
    "#generate plots\n",
    "\n",
    "# summarize history for accuracy\n",
    "plt.plot(history.history['acc'])\n",
    "plt.plot(history.history['val_acc'])\n",
    "plt.title('model accuracy')\n",
    "plt.ylabel('accuracy')\n",
    "plt.xlabel('epoch')\n",
    "plt.legend(['train', 'test'], loc='upper left')\n",
    "\n",
    "plt.figure()\n",
    "\n",
    "plt.plot(history.history['loss'])\n",
    "plt.plot(history.history['val_loss'])\n",
    "plt.title('model loss')\n",
    "plt.ylabel('loss')\n",
    "plt.xlabel('epoch')\n",
    "plt.legend(['train', 'test'], loc='upper left')\n",
    "\n",
    "plt.show()"
   ]
  },
  {
   "cell_type": "code",
   "execution_count": 28,
   "metadata": {
    "colab": {
     "base_uri": "https://localhost:8080/",
     "height": 707
    },
    "colab_type": "code",
    "id": "PGhBPMjfDvgM",
    "outputId": "7b40168d-b64a-4cfa-810a-1817e581e7c4"
   },
   "outputs": [
    {
     "name": "stdout",
     "output_type": "stream",
     "text": [
      "Train on 22500 samples, validate on 2500 samples\n",
      "Epoch 1/3\n",
      "22500/22500 [==============================] - 3s 137us/step - loss: 1.4432 - acc: 0.4991 - val_loss: 0.9893 - val_acc: 0.5124\n",
      "Epoch 2/3\n",
      "22500/22500 [==============================] - 2s 102us/step - loss: 0.9133 - acc: 0.4994 - val_loss: 0.8581 - val_acc: 0.4876\n",
      "Epoch 3/3\n",
      "22500/22500 [==============================] - 2s 101us/step - loss: 0.8238 - acc: 0.5014 - val_loss: 0.7936 - val_acc: 0.4876\n",
      "Accuracy: 50.00%\n"
     ]
    },
    {
     "data": {
      "image/png": "[encoded data removed]",
      "text/plain": [
       "<Figure size 432x288 with 1 Axes>"
      ]
     },
     "metadata": {
      "tags": []
     },
     "output_type": "display_data"
    },
    {
     "data": {
      "image/png": "[encoded data removed]",
      "text/plain": [
       "<Figure size 432x288 with 1 Axes>"
      ]
     },
     "metadata": {
      "tags": []
     },
     "output_type": "display_data"
    }
   ],
   "source": [
    "from keras import layers\n",
    "from keras import models\n",
    "from keras import optimizers\n",
    "from keras import regularizers\n",
    "\n",
    "#Build Model\n",
    "model = Sequential()\n",
    "model.add(Embedding(top_words, embedding_size, input_length=input_length))\n",
    "model.add(Flatten())\n",
    "model.add(Dense(250, activation='relu'))\n",
    "model.add(Dense(64, input_dim=64,\n",
    "                kernel_regularizer=regularizers.l2(0.01),\n",
    "                activity_regularizer=regularizers.l1(0.01)))\n",
    "model.add(Dense(1, activation='sigmoid'))\n",
    "model.compile(loss='binary_crossentropy', optimizer='adam', metrics=['accuracy'])\n",
    "\n",
    "# Fit the model\n",
    "epochs=3\n",
    "batch_size=128\n",
    "\n",
    "history = model.fit(X_train, y_train,\n",
    "                    batch_size=batch_size,\n",
    "                    epochs=epochs,\n",
    "                    verbose=1,\n",
    "                    validation_split=0.1)\n",
    "\n",
    "# Final evaluation of the model\n",
    "scores = model.evaluate(X_test, y_test, verbose=0)\n",
    "print(\"Accuracy: %.2f%%\" % (scores[1]*100))\n",
    "\n",
    "#generate plots\n",
    "\n",
    "# summarize history for accuracy\n",
    "plt.plot(history.history['acc'])\n",
    "plt.plot(history.history['val_acc'])\n",
    "plt.title('model accuracy')\n",
    "plt.ylabel('accuracy')\n",
    "plt.xlabel('epoch')\n",
    "plt.legend(['train', 'test'], loc='upper left')\n",
    "\n",
    "plt.figure()\n",
    "\n",
    "plt.plot(history.history['loss'])\n",
    "plt.plot(history.history['val_loss'])\n",
    "plt.title('model loss')\n",
    "plt.ylabel('loss')\n",
    "plt.xlabel('epoch')\n",
    "plt.legend(['train', 'test'], loc='upper left')\n",
    "\n",
    "plt.show()"
   ]
  },
  {
   "cell_type": "markdown",
   "metadata": {
    "colab_type": "raw",
    "id": "CS4h8Awd7PX0"
   },
   "source": [
    "**Note:** As it can be seen by the models above regularization did not improve the model. Dropout improved the models as a whole as it reduced overfitting a little and improved train accuracy, however it had minor impact to test accuracy."
   ]
  },
  {
   "cell_type": "markdown",
   "metadata": {
    "colab_type": "text",
    "id": "xzTecDRD7PX1"
   },
   "source": [
    "## STOP, take a deep breath and wait for instruction before proceeding."
   ]
  },
  {
   "cell_type": "markdown",
   "metadata": {
    "colab_type": "text",
    "id": "gGjVZN3l7PX2"
   },
   "source": [
    "### One-Dimensional Convolutional Neural Network Model \n",
    "\n",
    "Convolutional neural networks were designed to honor the spatial structure in image data while being robust to the position and orientation of learned objects in the scene.\n",
    "\n",
    "This same principle can be used on sequences, such as the one-dimensional sequence of words in a movie review. The same properties that make the CNN model attractive for learning to recognize objects in images can help to learn structure in paragraphs of words, namely the techniques invariance to the specific position of features.\n",
    "\n",
    "Keras supports one-dimensional convolutions and pooling by the Conv1D and MaxPooling1D classes respectively.\n",
    "\n",
    "Again, let’s import the classes and functions needed for this example and initialize our random number generator to a constant value so that we can easily reproduce results."
   ]
  },
  {
   "cell_type": "code",
   "execution_count": 0,
   "metadata": {
    "colab": {},
    "colab_type": "code",
    "id": "ua_sgjNB7PX3"
   },
   "outputs": [],
   "source": [
    "# CNN for the IMDB problem\n",
    "import numpy\n",
    "from keras.datasets import imdb\n",
    "from keras.models import Sequential\n",
    "from keras.layers import Dense\n",
    "from keras.layers import Flatten\n",
    "from keras.layers.convolutional import Conv1D\n",
    "from keras.layers.convolutional import MaxPooling1D\n",
    "from keras.layers.embeddings import Embedding\n",
    "from keras.preprocessing import sequence\n",
    "from keras import layers\n",
    "# fix random seed for reproducibility\n",
    "seed = 42\n",
    "numpy.random.seed(seed)"
   ]
  },
  {
   "cell_type": "markdown",
   "metadata": {
    "colab_type": "text",
    "id": "oCSbFoeT7PX6"
   },
   "source": [
    "We can also load and prepare our IMDB dataset as we did before."
   ]
  },
  {
   "cell_type": "code",
   "execution_count": 0,
   "metadata": {
    "colab": {},
    "colab_type": "code",
    "id": "kCr8bj9P7PX7"
   },
   "outputs": [],
   "source": [
    "# load the dataset but only keep the top n words, zero the rest\n",
    "top_words = 5000\n",
    "(X_train, y_train), (X_test, y_test) = imdb.load_data(num_words=top_words)\n",
    "# pad dataset to a maximum review length in words\n",
    "input_length = 500\n",
    "X_train = sequence.pad_sequences(X_train, maxlen=input_length)\n",
    "X_test = sequence.pad_sequences(X_test, maxlen=input_length)"
   ]
  },
  {
   "cell_type": "markdown",
   "metadata": {
    "colab_type": "text",
    "id": "mi9IxPxl7PX-"
   },
   "source": [
    "We can now define our convolutional neural network model. This time, after the Embedding input layer, we insert a `Conv1D` layer. This convolutional layer has `32` feature maps and reads embedded word representations with a filter size (kernel_size) equal to 3. I.e., 3 vector elements of the word embedding at a time.\n",
    "\n",
    "The convolutional layer is followed by a 1D max pooling layer with a size of 2 that halves the size of the feature maps from the convolutional layer. The rest of the network is the same as the neural network above."
   ]
  },
  {
   "cell_type": "code",
   "execution_count": 31,
   "metadata": {
    "colab": {
     "base_uri": "https://localhost:8080/",
     "height": 391
    },
    "colab_type": "code",
    "id": "6Kb4_Hyy7PX_",
    "outputId": "d9d34a38-fb0e-41c2-b447-1746ed62928d"
   },
   "outputs": [
    {
     "name": "stdout",
     "output_type": "stream",
     "text": [
      "_________________________________________________________________\n",
      "Layer (type)                 Output Shape              Param #   \n",
      "=================================================================\n",
      "embedding_6 (Embedding)      (None, 500, 32)           160000    \n",
      "_________________________________________________________________\n",
      "conv1d_1 (Conv1D)            (None, 500, 32)           3104      \n",
      "_________________________________________________________________\n",
      "dropout_3 (Dropout)          (None, 500, 32)           0         \n",
      "_________________________________________________________________\n",
      "max_pooling1d_1 (MaxPooling1 (None, 250, 32)           0         \n",
      "_________________________________________________________________\n",
      "flatten_6 (Flatten)          (None, 8000)              0         \n",
      "_________________________________________________________________\n",
      "dense_12 (Dense)             (None, 250)               2000250   \n",
      "_________________________________________________________________\n",
      "dense_13 (Dense)             (None, 1)                 251       \n",
      "=================================================================\n",
      "Total params: 2,163,605\n",
      "Trainable params: 2,163,605\n",
      "Non-trainable params: 0\n",
      "_________________________________________________________________\n",
      "None\n"
     ]
    }
   ],
   "source": [
    "# create the model\n",
    "model = Sequential()\n",
    "model.add(Embedding(top_words, 32, input_length=input_length))\n",
    "model.add(Conv1D(filters=32, kernel_size=3, padding='same', activation='relu'))\n",
    "# Add a dropout layer for previous hidden layer\n",
    "model.add(layers.Dropout(0.2))\n",
    "model.add(MaxPooling1D(pool_size=2))\n",
    "# Add additional convolution layer\n",
    "#model.add(Conv1D(filters=64, kernel_size=3, padding='same', activation='relu'))\n",
    "# model.add(layers.Dropout(0.2))\n",
    "# model.add(MaxPooling1D(pool_size=2))\n",
    "model.add(Flatten())\n",
    "model.add(Dense(250, activation='relu'))\n",
    "model.add(Dense(1, activation='sigmoid'))\n",
    "model.compile(loss='binary_crossentropy', optimizer='adam', metrics=['accuracy'])\n",
    "print(model.summary())"
   ]
  },
  {
   "cell_type": "markdown",
   "metadata": {
    "colab_type": "text",
    "id": "3WUO0RVc7PYC"
   },
   "source": [
    "We also fit the network the same as before."
   ]
  },
  {
   "cell_type": "code",
   "execution_count": 32,
   "metadata": {
    "colab": {
     "base_uri": "https://localhost:8080/",
     "height": 153
    },
    "colab_type": "code",
    "id": "8t3O66WQ7PYD",
    "outputId": "c2676416-141f-45ce-9218-2542af7d7f55"
   },
   "outputs": [
    {
     "name": "stdout",
     "output_type": "stream",
     "text": [
      "Train on 22500 samples, validate on 2500 samples\n",
      "Epoch 1/3\n",
      "22500/22500 [==============================] - 5s 224us/step - loss: 0.5347 - acc: 0.6939 - val_loss: 0.3002 - val_acc: 0.8816\n",
      "Epoch 2/3\n",
      "22500/22500 [==============================] - 2s 109us/step - loss: 0.2351 - acc: 0.9080 - val_loss: 0.2682 - val_acc: 0.8916\n",
      "Epoch 3/3\n",
      "22500/22500 [==============================] - 2s 108us/step - loss: 0.1791 - acc: 0.9320 - val_loss: 0.2838 - val_acc: 0.8844\n",
      "Accuracy: 88.41%\n"
     ]
    }
   ],
   "source": [
    "# Fit the model\n",
    "history = model.fit(X_train, y_train,\n",
    "                    batch_size=batch_size,\n",
    "                    epochs=epochs,\n",
    "                    verbose=1,\n",
    "                    validation_split=0.1)\n",
    "# Final evaluation of the model\n",
    "scores = model.evaluate(X_test, y_test, verbose=0)\n",
    "print(\"Accuracy: %.2f%%\" % (scores[1]*100))"
   ]
  },
  {
   "cell_type": "code",
   "execution_count": 33,
   "metadata": {
    "colab": {
     "base_uri": "https://localhost:8080/",
     "height": 328
    },
    "colab_type": "code",
    "id": "E4wkhRhZ7PYG",
    "outputId": "5d5861cd-bb9a-4cef-bfe1-edaa388404c2"
   },
   "outputs": [
    {
     "name": "stdout",
     "output_type": "stream",
     "text": [
      "['acc', 'loss', 'val_acc', 'val_loss']\n"
     ]
    },
    {
     "data": {
      "text/plain": [
       "<matplotlib.legend.Legend at 0x7fb561746790>"
      ]
     },
     "execution_count": 33,
     "metadata": {
      "tags": []
     },
     "output_type": "execute_result"
    },
    {
     "data": {
      "image/png": "[encoded data removed]",
      "text/plain": [
       "<Figure size 432x288 with 1 Axes>"
      ]
     },
     "metadata": {
      "tags": []
     },
     "output_type": "display_data"
    }
   ],
   "source": [
    "print(history.history.keys())\n",
    "# summarize history for accuracy\n",
    "plt.plot(history.history['acc'])\n",
    "plt.plot(history.history['val_acc'])\n",
    "plt.title('model accuracy')\n",
    "plt.ylabel('accuracy')\n",
    "plt.xlabel('epoch')\n",
    "plt.legend(['train', 'test'], loc='upper left')"
   ]
  },
  {
   "cell_type": "code",
   "execution_count": 34,
   "metadata": {
    "colab": {
     "base_uri": "https://localhost:8080/",
     "height": 311
    },
    "colab_type": "code",
    "id": "Ev-5uCNy7PYK",
    "outputId": "a9757191-6d55-4adf-98f4-438d1d99bc5c"
   },
   "outputs": [
    {
     "data": {
      "text/plain": [
       "<matplotlib.legend.Legend at 0x7fb5616b0cd0>"
      ]
     },
     "execution_count": 34,
     "metadata": {
      "tags": []
     },
     "output_type": "execute_result"
    },
    {
     "data": {
      "image/png": "[encoded data removed]",
      "text/plain": [
       "<Figure size 432x288 with 1 Axes>"
      ]
     },
     "metadata": {
      "tags": []
     },
     "output_type": "display_data"
    }
   ],
   "source": [
    "# summarize history for loss\n",
    "plt.plot(history.history['loss'])\n",
    "plt.plot(history.history['val_loss'])\n",
    "plt.title('model loss')\n",
    "plt.ylabel('loss')\n",
    "plt.xlabel('epoch')\n",
    "plt.legend(['train', 'test'], loc='upper left')"
   ]
  },
  {
   "cell_type": "markdown",
   "metadata": {
    "colab_type": "text",
    "id": "QpvdAn7P7PYM"
   },
   "source": [
    "Running the example, we are first presented with a summary of the network structure. We can see our convolutional layer preserves the dimensionality of our Embedding input layer of 32-dimensional input with a maximum of 500 words. The pooling layer compresses this representation by halving it.\n",
    "\n",
    "Running the example offers a small but welcome improvement over the neural network model above with an accuracy of ~ 88%!\n",
    "\n",
    "**TODO:**\n",
    "\n",
    "It's your turn. See if you can improve the performance of the network by adjusting the hyperparameters, adding additional convolution layers, and playing with dropout.\n"
   ]
  },
  {
   "cell_type": "code",
   "execution_count": 35,
   "metadata": {
    "colab": {
     "base_uri": "https://localhost:8080/",
     "height": 707
    },
    "colab_type": "code",
    "id": "In18KQ5D7PYN",
    "outputId": "5ad0042c-e9e8-46eb-d88b-d8797f96c96f"
   },
   "outputs": [
    {
     "name": "stdout",
     "output_type": "stream",
     "text": [
      "Train on 22500 samples, validate on 2500 samples\n",
      "Epoch 1/3\n",
      "22500/22500 [==============================] - 5s 205us/step - loss: 0.4811 - acc: 0.7311 - val_loss: 0.2915 - val_acc: 0.8832\n",
      "Epoch 2/3\n",
      "22500/22500 [==============================] - 3s 146us/step - loss: 0.2256 - acc: 0.9099 - val_loss: 0.2845 - val_acc: 0.8856\n",
      "Epoch 3/3\n",
      "22500/22500 [==============================] - 3s 145us/step - loss: 0.1755 - acc: 0.9319 - val_loss: 0.2744 - val_acc: 0.8916\n",
      "Accuracy: 88.33%\n"
     ]
    },
    {
     "data": {
      "image/png": "[encoded data removed]",
      "text/plain": [
       "<Figure size 432x288 with 1 Axes>"
      ]
     },
     "metadata": {
      "tags": []
     },
     "output_type": "display_data"
    },
    {
     "data": {
      "image/png": "[encoded data removed]",
      "text/plain": [
       "<Figure size 432x288 with 1 Axes>"
      ]
     },
     "metadata": {
      "tags": []
     },
     "output_type": "display_data"
    }
   ],
   "source": [
    "# Your work here:\n",
    "# create the model\n",
    "model = Sequential()\n",
    "model.add(Embedding(top_words, 32, input_length=input_length))\n",
    "model.add(Conv1D(filters=32, kernel_size=3, padding='same', activation='relu'))\n",
    "# Add a dropout layer for previous hidden layer\n",
    "model.add(layers.Dropout(0.2))\n",
    "model.add(MaxPooling1D(pool_size=2))\n",
    "# Add additional convolution layer\n",
    "model.add(Conv1D(filters=64, kernel_size=3, padding='same', activation='relu'))\n",
    "model.add(layers.Dropout(0.2))\n",
    "model.add(MaxPooling1D(pool_size=2))\n",
    "model.add(Flatten())\n",
    "model.add(Dense(250, activation='relu'))\n",
    "model.add(Dense(1, activation='sigmoid'))\n",
    "model.compile(loss='binary_crossentropy', optimizer='adam', metrics=['accuracy'])\n",
    "\n",
    "# Fit the model\n",
    "history = model.fit(X_train, y_train,\n",
    "                    batch_size=batch_size,\n",
    "                    epochs=epochs,\n",
    "                    verbose=1,\n",
    "                    validation_split=0.1)\n",
    "# Final evaluation of the model\n",
    "scores = model.evaluate(X_test, y_test, verbose=0)\n",
    "print(\"Accuracy: %.2f%%\" % (scores[1]*100))\n",
    "\n",
    "#generate plots\n",
    "\n",
    "# summarize history for accuracy\n",
    "plt.plot(history.history['acc'])\n",
    "plt.plot(history.history['val_acc'])\n",
    "plt.title('model accuracy')\n",
    "plt.ylabel('accuracy')\n",
    "plt.xlabel('epoch')\n",
    "plt.legend(['train', 'test'], loc='upper left')\n",
    "\n",
    "plt.figure()\n",
    "\n",
    "plt.plot(history.history['loss'])\n",
    "plt.plot(history.history['val_loss'])\n",
    "plt.title('model loss')\n",
    "plt.ylabel('loss')\n",
    "plt.xlabel('epoch')\n",
    "plt.legend(['train', 'test'], loc='upper left')\n",
    "\n",
    "plt.show()"
   ]
  },
  {
   "cell_type": "code",
   "execution_count": 37,
   "metadata": {
    "colab": {
     "base_uri": "https://localhost:8080/",
     "height": 707
    },
    "colab_type": "code",
    "id": "QjSWt6lhJmTh",
    "outputId": "cfa820a4-f71e-484d-8ce9-8ce0bd8f5397"
   },
   "outputs": [
    {
     "name": "stdout",
     "output_type": "stream",
     "text": [
      "Train on 22500 samples, validate on 2500 samples\n",
      "Epoch 1/3\n",
      "22500/22500 [==============================] - 3s 155us/step - loss: 0.5337 - acc: 0.6950 - val_loss: 0.3028 - val_acc: 0.8748\n",
      "Epoch 2/3\n",
      "22500/22500 [==============================] - 2s 110us/step - loss: 0.2381 - acc: 0.9049 - val_loss: 0.3053 - val_acc: 0.8800\n",
      "Epoch 3/3\n",
      "22500/22500 [==============================] - 2s 109us/step - loss: 0.1729 - acc: 0.9338 - val_loss: 0.2813 - val_acc: 0.8892\n",
      "Accuracy: 87.96%\n"
     ]
    },
    {
     "data": {
      "image/png": "[encoded data removed]",
      "text/plain": [
       "<Figure size 432x288 with 1 Axes>"
      ]
     },
     "metadata": {
      "tags": []
     },
     "output_type": "display_data"
    },
    {
     "data": {
      "image/png": "[encoded data removed]",
      "text/plain": [
       "<Figure size 432x288 with 1 Axes>"
      ]
     },
     "metadata": {
      "tags": []
     },
     "output_type": "display_data"
    }
   ],
   "source": [
    "# create the model\n",
    "model = Sequential()\n",
    "model.add(Embedding(top_words, 32, input_length=input_length))\n",
    "model.add(Conv1D(filters=32, kernel_size=3, padding='same', activation='relu'))\n",
    "# Add a dropout layer for previous hidden layer\n",
    "model.add(layers.Dropout(0.3))\n",
    "model.add(MaxPooling1D(pool_size=2))\n",
    "model.add(Flatten())\n",
    "model.add(Dense(250, activation='relu'))\n",
    "model.add(Dense(1, activation='sigmoid'))\n",
    "model.compile(loss='binary_crossentropy', optimizer='adam', metrics=['accuracy'])\n",
    "\n",
    "# Fit the model\n",
    "history = model.fit(X_train, y_train,\n",
    "                    batch_size=batch_size,\n",
    "                    epochs=epochs,\n",
    "                    verbose=1,\n",
    "                    validation_split=0.1)\n",
    "# Final evaluation of the model\n",
    "scores = model.evaluate(X_test, y_test, verbose=0)\n",
    "print(\"Accuracy: %.2f%%\" % (scores[1]*100))\n",
    "\n",
    "#generate plots\n",
    "\n",
    "# summarize history for accuracy\n",
    "plt.plot(history.history['acc'])\n",
    "plt.plot(history.history['val_acc'])\n",
    "plt.title('model accuracy')\n",
    "plt.ylabel('accuracy')\n",
    "plt.xlabel('epoch')\n",
    "plt.legend(['train', 'test'], loc='upper left')\n",
    "\n",
    "plt.figure()\n",
    "\n",
    "plt.plot(history.history['loss'])\n",
    "plt.plot(history.history['val_loss'])\n",
    "plt.title('model loss')\n",
    "plt.ylabel('loss')\n",
    "plt.xlabel('epoch')\n",
    "plt.legend(['train', 'test'], loc='upper left')\n",
    "\n",
    "plt.show()"
   ]
  },
  {
   "cell_type": "code",
   "execution_count": 38,
   "metadata": {
    "colab": {
     "base_uri": "https://localhost:8080/",
     "height": 707
    },
    "colab_type": "code",
    "id": "coa0LC2tKBYb",
    "outputId": "19e2c896-179e-4b38-d01c-b0b8e8819ca3"
   },
   "outputs": [
    {
     "name": "stdout",
     "output_type": "stream",
     "text": [
      "Train on 22500 samples, validate on 2500 samples\n",
      "Epoch 1/3\n",
      "22500/22500 [==============================] - 4s 197us/step - loss: 0.5881 - acc: 0.6259 - val_loss: 0.3210 - val_acc: 0.8664\n",
      "Epoch 2/3\n",
      "22500/22500 [==============================] - 3s 146us/step - loss: 0.2487 - acc: 0.8992 - val_loss: 0.3277 - val_acc: 0.8616\n",
      "Epoch 3/3\n",
      "22500/22500 [==============================] - 3s 146us/step - loss: 0.1871 - acc: 0.9274 - val_loss: 0.3001 - val_acc: 0.8768\n",
      "Accuracy: 87.36%\n"
     ]
    },
    {
     "data": {
      "image/png": "[encoded data removed]",
      "text/plain": [
       "<Figure size 432x288 with 1 Axes>"
      ]
     },
     "metadata": {
      "tags": []
     },
     "output_type": "display_data"
    },
    {
     "data": {
      "image/png": "[encoded data removed]",
      "text/plain": [
       "<Figure size 432x288 with 1 Axes>"
      ]
     },
     "metadata": {
      "tags": []
     },
     "output_type": "display_data"
    }
   ],
   "source": [
    "# create the model\n",
    "model = Sequential()\n",
    "model.add(Embedding(top_words, 32, input_length=input_length))\n",
    "model.add(Conv1D(filters=32, kernel_size=3, padding='same', activation='relu'))\n",
    "# Add a dropout layer for previous hidden layer\n",
    "model.add(layers.Dropout(0.3))\n",
    "model.add(MaxPooling1D(pool_size=2))\n",
    "# Add additional convolution layer\n",
    "model.add(Conv1D(filters=64, kernel_size=3, padding='same', activation='relu'))\n",
    "model.add(layers.Dropout(0.3))\n",
    "model.add(MaxPooling1D(pool_size=2))\n",
    "model.add(Flatten())\n",
    "model.add(Dense(250, activation='relu'))\n",
    "model.add(Dense(1, activation='sigmoid'))\n",
    "model.compile(loss='binary_crossentropy', optimizer='adam', metrics=['accuracy'])\n",
    "\n",
    "# Fit the model\n",
    "history = model.fit(X_train, y_train,\n",
    "                    batch_size=batch_size,\n",
    "                    epochs=epochs,\n",
    "                    verbose=1,\n",
    "                    validation_split=0.1)\n",
    "# Final evaluation of the model\n",
    "scores = model.evaluate(X_test, y_test, verbose=0)\n",
    "print(\"Accuracy: %.2f%%\" % (scores[1]*100))\n",
    "\n",
    "#generate plots\n",
    "\n",
    "# summarize history for accuracy\n",
    "plt.plot(history.history['acc'])\n",
    "plt.plot(history.history['val_acc'])\n",
    "plt.title('model accuracy')\n",
    "plt.ylabel('accuracy')\n",
    "plt.xlabel('epoch')\n",
    "plt.legend(['train', 'test'], loc='upper left')\n",
    "\n",
    "plt.figure()\n",
    "\n",
    "plt.plot(history.history['loss'])\n",
    "plt.plot(history.history['val_loss'])\n",
    "plt.title('model loss')\n",
    "plt.ylabel('loss')\n",
    "plt.xlabel('epoch')\n",
    "plt.legend(['train', 'test'], loc='upper left')\n",
    "\n",
    "plt.show()"
   ]
  },
  {
   "cell_type": "markdown",
   "metadata": {
    "colab_type": "text",
    "id": "L7Uh03kEKP0q"
   },
   "source": [
    "**Note:** As it can be seen in the models above, although incresing dropout has recuded the accuracy a little it has also reduced overfitting.  \n",
    "In both cases (dropout 0.2 and 0.3) it can be seen that adding an additional convolutional layer has decreased accuracy."
   ]
  },
  {
   "cell_type": "markdown",
   "metadata": {
    "colab_type": "text",
    "id": "lF9dOOiE7PYP"
   },
   "source": [
    "## STOP, take a deep breath and wait for instruction before proceeding."
   ]
  },
  {
   "cell_type": "markdown",
   "metadata": {
    "colab_type": "text",
    "id": "ciXOtH9S7PYS"
   },
   "source": [
    "#### LSTM\n",
    "\n",
    "Below is an example of training an LSTM network.\n",
    "\n",
    "Notes:  \n",
    "- RNNs are tricky. Choice of batch size is important,\n",
    "choice of loss and optimizer is critical, etc.   \n",
    "- Some configurations won't converge.  \n",
    "- LSTM loss decrease patterns during training can be quite different\n",
    "from what you see with CNNs/MLPs/etc.\n"
   ]
  },
  {
   "cell_type": "code",
   "execution_count": 30,
   "metadata": {
    "colab": {
     "base_uri": "https://localhost:8080/",
     "height": 731
    },
    "colab_type": "code",
    "id": "T0qIBjH57PYT",
    "outputId": "a76ee0a8-a673-4c99-8c81-6126e5724de7"
   },
   "outputs": [
    {
     "name": "stdout",
     "output_type": "stream",
     "text": [
      "Loading data...\n",
      "(25000, 'train sequences')\n",
      "(25000, 'test sequences')\n",
      "Pad sequences (samples x time)\n",
      "('x_train shape:', (25000, 80))\n",
      "('x_test shape:', (25000, 80))\n",
      "Build model...\n",
      "Train...\n",
      "Train on 25000 samples, validate on 25000 samples\n",
      "Epoch 1/15\n",
      "25000/25000 [==============================] - 198s 8ms/step - loss: 0.4568 - acc: 0.7842 - val_loss: 0.3718 - val_acc: 0.8384\n",
      "Epoch 2/15\n",
      "25000/25000 [==============================] - 195s 8ms/step - loss: 0.3006 - acc: 0.8748 - val_loss: 0.3865 - val_acc: 0.8270\n",
      "Epoch 3/15\n",
      "25000/25000 [==============================] - 196s 8ms/step - loss: 0.2120 - acc: 0.9159 - val_loss: 0.4095 - val_acc: 0.8292\n",
      "Epoch 4/15\n",
      "25000/25000 [==============================] - 196s 8ms/step - loss: 0.1493 - acc: 0.9445 - val_loss: 0.4867 - val_acc: 0.8275\n",
      "Epoch 5/15\n",
      "25000/25000 [==============================] - 197s 8ms/step - loss: 0.1074 - acc: 0.9610 - val_loss: 0.5603 - val_acc: 0.8247\n",
      "Epoch 6/15\n",
      "25000/25000 [==============================] - 196s 8ms/step - loss: 0.0790 - acc: 0.9726 - val_loss: 0.6900 - val_acc: 0.8215\n",
      "Epoch 7/15\n",
      "25000/25000 [==============================] - 196s 8ms/step - loss: 0.0571 - acc: 0.9811 - val_loss: 0.7612 - val_acc: 0.8157\n",
      "Epoch 8/15\n",
      "25000/25000 [==============================] - 196s 8ms/step - loss: 0.0417 - acc: 0.9859 - val_loss: 0.7985 - val_acc: 0.8172\n",
      "Epoch 9/15\n",
      "25000/25000 [==============================] - 197s 8ms/step - loss: 0.0302 - acc: 0.9905 - val_loss: 0.9275 - val_acc: 0.8109\n",
      "Epoch 10/15\n",
      "25000/25000 [==============================] - 200s 8ms/step - loss: 0.0282 - acc: 0.9906 - val_loss: 0.9500 - val_acc: 0.8198\n",
      "Epoch 11/15\n",
      "25000/25000 [==============================] - 202s 8ms/step - loss: 0.0168 - acc: 0.9948 - val_loss: 1.0278 - val_acc: 0.8106\n",
      "Epoch 12/15\n",
      "25000/25000 [==============================] - 198s 8ms/step - loss: 0.0190 - acc: 0.9942 - val_loss: 0.9224 - val_acc: 0.8123\n",
      "Epoch 13/15\n",
      "25000/25000 [==============================] - 198s 8ms/step - loss: 0.0150 - acc: 0.9951 - val_loss: 1.0393 - val_acc: 0.8114\n",
      "Epoch 14/15\n",
      "25000/25000 [==============================] - 202s 8ms/step - loss: 0.0125 - acc: 0.9965 - val_loss: 1.2709 - val_acc: 0.8106\n",
      "Epoch 15/15\n",
      "25000/25000 [==============================] - 199s 8ms/step - loss: 0.0119 - acc: 0.9961 - val_loss: 1.0355 - val_acc: 0.8062\n",
      "25000/25000 [==============================] - 32s 1ms/step\n",
      "('Test score:', 1.0355011402767897)\n",
      "('Test accuracy:', 0.80624)\n"
     ]
    }
   ],
   "source": [
    "from keras.preprocessing import sequence\n",
    "from keras.models import Sequential\n",
    "from keras.layers import Dense, Embedding\n",
    "from keras.layers import LSTM\n",
    "from keras.datasets import imdb\n",
    "\n",
    "max_features = 20000\n",
    "maxlen = 80  # cut texts after this number of words (among top max_features most common words)\n",
    "batch_size = 32\n",
    "\n",
    "print('Loading data...')\n",
    "(x_train, y_train), (x_test, y_test) = imdb.load_data(num_words=max_features)\n",
    "print(len(x_train), 'train sequences')\n",
    "print(len(x_test), 'test sequences')\n",
    "\n",
    "print('Pad sequences (samples x time)')\n",
    "x_train = sequence.pad_sequences(x_train, maxlen=maxlen)\n",
    "x_test = sequence.pad_sequences(x_test, maxlen=maxlen)\n",
    "print('x_train shape:', x_train.shape)\n",
    "print('x_test shape:', x_test.shape)\n",
    "\n",
    "print('Build model...')\n",
    "model = Sequential()\n",
    "model.add(Embedding(max_features, 128))\n",
    "model.add(LSTM(128, dropout=0.2, recurrent_dropout=0.2))\n",
    "model.add(Dense(1, activation='sigmoid'))\n",
    "\n",
    "# try using different optimizers and different optimizer configs\n",
    "model.compile(loss='binary_crossentropy',\n",
    "              optimizer='adam',\n",
    "              metrics=['accuracy'])\n",
    "\n",
    "print('Train...')\n",
    "history = model.fit(x_train, y_train,\n",
    "          batch_size=batch_size,\n",
    "          epochs=15,\n",
    "          validation_data=(x_test, y_test))\n",
    "score, acc = model.evaluate(x_test, y_test,\n",
    "                            batch_size=batch_size)\n",
    "print('Test score:', score)\n",
    "print('Test accuracy:', acc)"
   ]
  },
  {
   "cell_type": "code",
   "execution_count": 31,
   "metadata": {
    "colab": {
     "base_uri": "https://localhost:8080/",
     "height": 328
    },
    "colab_type": "code",
    "id": "esqBfHU97PYX",
    "outputId": "7e45fb1b-68cd-4231-9365-e0c84b92e10a"
   },
   "outputs": [
    {
     "name": "stdout",
     "output_type": "stream",
     "text": [
      "['acc', 'loss', 'val_acc', 'val_loss']\n"
     ]
    },
    {
     "data": {
      "text/plain": [
       "<matplotlib.legend.Legend at 0x7fa8bc16e790>"
      ]
     },
     "execution_count": 31,
     "metadata": {
      "tags": []
     },
     "output_type": "execute_result"
    },
    {
     "data": {
      "image/png": "[encoded data removed]",
      "text/plain": [
       "<Figure size 432x288 with 1 Axes>"
      ]
     },
     "metadata": {
      "tags": []
     },
     "output_type": "display_data"
    }
   ],
   "source": [
    "print(history.history.keys())\n",
    "# summarize history for accuracy\n",
    "plt.plot(history.history['acc'])\n",
    "plt.plot(history.history['val_acc'])\n",
    "plt.title('model accuracy')\n",
    "plt.ylabel('accuracy')\n",
    "plt.xlabel('epoch')\n",
    "plt.legend(['train', 'test'], loc='upper left')"
   ]
  },
  {
   "cell_type": "code",
   "execution_count": 32,
   "metadata": {
    "colab": {
     "base_uri": "https://localhost:8080/",
     "height": 311
    },
    "colab_type": "code",
    "id": "GDQ0qfOS7PYd",
    "outputId": "df6c96b8-18f0-4979-e9e6-126272438a01"
   },
   "outputs": [
    {
     "data": {
      "text/plain": [
       "<matplotlib.legend.Legend at 0x7fa8bc16e390>"
      ]
     },
     "execution_count": 32,
     "metadata": {
      "tags": []
     },
     "output_type": "execute_result"
    },
    {
     "data": {
      "image/png": "[encoded data removed]",
      "text/plain": [
       "<Figure size 432x288 with 1 Axes>"
      ]
     },
     "metadata": {
      "tags": []
     },
     "output_type": "display_data"
    }
   ],
   "source": [
    "# summarize history for loss\n",
    "plt.plot(history.history['loss'])\n",
    "plt.plot(history.history['val_loss'])\n",
    "plt.title('model loss')\n",
    "plt.ylabel('loss')\n",
    "plt.xlabel('epoch')\n",
    "plt.legend(['train', 'test'], loc='upper left')"
   ]
  },
  {
   "cell_type": "markdown",
   "metadata": {
    "colab_type": "text",
    "id": "fhC7xnMb7PYg"
   },
   "source": [
    "### TODO:   \n",
    "Record your results.  \n",
    "\n",
    "Is the model underfitting or overfitting the data? \n",
    "\n",
    "Based on your observations what steps would you take to improve the model?   \n",
    "\n",
    "Extra credit: Try to actually improve the recurrent model.  \n",
    "    \n",
    "    "
   ]
  },
  {
   "cell_type": "markdown",
   "metadata": {
    "colab_type": "text",
    "id": "YRRU6gaEKxig"
   },
   "source": [
    "**Note:** From the above graphs it can be ssen that the model is overfitting. In order to correct this the dropout can be increased, the number of epochs can also be decreased."
   ]
  },
  {
   "cell_type": "code",
   "execution_count": 0,
   "metadata": {
    "colab": {},
    "colab_type": "code",
    "id": "3PpwU-ur7PYh"
   },
   "outputs": [],
   "source": [
    "# SKIP - will come back to this if we have time\n",
    "# Log to tensorboard\n",
    "# tensorBoardCallback = TensorBoard(log_dir='./logs', write_graph=True)\n",
    "# model.compile(loss='binary_crossentropy', optimizer='adam', metrics=['accuracy'])\n"
   ]
  }
 ],
 "metadata": {
  "accelerator": "GPU",
  "colab": {
   "name": "SentimentClassification.ipynb",
   "provenance": [],
   "version": "0.3.2"
  },
  "kernelspec": {
   "display_name": "Python 3",
   "language": "python",
   "name": "python3"
  },
  "language_info": {
   "codemirror_mode": {
    "name": "ipython",
    "version": 3
   },
   "file_extension": ".py",
   "mimetype": "text/x-python",
   "name": "python",
   "nbconvert_exporter": "python",
   "pygments_lexer": "ipython3",
   "version": "3.7.0"
  }
 },
 "nbformat": 4,
 "nbformat_minor": 1
}
